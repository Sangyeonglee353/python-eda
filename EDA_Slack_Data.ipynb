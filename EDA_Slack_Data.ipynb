{
  "nbformat": 4,
  "nbformat_minor": 0,
  "metadata": {
    "colab": {
      "provenance": [],
      "collapsed_sections": [
        "3U7AG8vszh-o",
        "XcaoXowBIc9Q"
      ],
      "authorship_tag": "ABX9TyMV7wN3Gsx9toGtWizwZeGE",
      "include_colab_link": true
    },
    "kernelspec": {
      "name": "python3",
      "display_name": "Python 3"
    },
    "language_info": {
      "name": "python"
    }
  },
  "cells": [
    {
      "cell_type": "markdown",
      "metadata": {
        "id": "view-in-github",
        "colab_type": "text"
      },
      "source": [
        "<a href=\"https://colab.research.google.com/github/Sangyeonglee353/python-eda/blob/main/EDA_Slack_Data.ipynb\" target=\"_parent\"><img src=\"https://colab.research.google.com/assets/colab-badge.svg\" alt=\"Open In Colab\"/></a>"
      ]
    },
    {
      "cell_type": "markdown",
      "source": [
        "# 데이터 불러오기"
      ],
      "metadata": {
        "id": "3gpXRez5EyO5"
      }
    },
    {
      "cell_type": "code",
      "source": [
        "# Google Drive 마운트\n",
        "from google.colab import drive\n",
        "drive.mount('/content/drive')"
      ],
      "metadata": {
        "colab": {
          "base_uri": "https://localhost:8080/"
        },
        "id": "iCS6R5YYFFlS",
        "outputId": "940ab1a9-045b-47ce-d025-e2fa5f69a680"
      },
      "execution_count": 1,
      "outputs": [
        {
          "output_type": "stream",
          "name": "stdout",
          "text": [
            "Mounted at /content/drive\n"
          ]
        }
      ]
    },
    {
      "cell_type": "code",
      "source": [
        "import os\n",
        "import json\n",
        "\n",
        "# 폴더 경로 지정\n",
        "folder_path = '/content/drive/My Drive/data/slack/UP_AI_1기_Slack'\n",
        "print(\"folder_path: \" + folder_path)\n",
        "\n",
        "# 폴더 내 모든 파일 리스트 가져오기\n",
        "file_list = os.listdir(folder_path)\n",
        "\n",
        "# print(\"Files in folder: \", file_list)\n",
        "\n",
        "# # 각 파일을 순회하면서 JSON 데이터 로드\n",
        "# for file_name in file_list:\n",
        "#   # 파일 경로 완성\n",
        "#   file_path = os.path.join(folder_path, file_name)\n",
        "\n",
        "#   # 파일 확장자 확인(JSON 파일만 처리)\n",
        "#   if file_path.endswith('.json'):\n",
        "#     with open(file_path, 'r') as file:\n",
        "#       data = json.load(file)\n",
        "#       print(\"Data in\", file_name, \":\", data)\n",
        "\n",
        "# folder_path = '/content/drive/My Drive/data/slack/UP_AI_1기_Slack'\n",
        "# channel_path = '/content/drive/My Drive/data/slack/UP_AI_1기_Slack/4_행정문의방'\n",
        "# file_path = '/content/drive/My Drive/data/slack/UP_AI_1기_Slack/4_행정문의방/0000-00-00.json'\n",
        "\n",
        "# 단일 파일을 순회하면서 JSON 데이터 로드\n",
        "channel_path = os.path.join(folder_path, \"4_행정문의방\")\n",
        "print(\"channel_path: \" + channel_path)\n",
        "\n",
        "# 폴더 내의 모든 파일을 순회\n",
        "jsonDataList = []\n",
        "FilenameList = []\n",
        "for filename in os.listdir(channel_path):\n",
        "    # 파일 확장자가 .json인 경우만 처리\n",
        "    if filename.endswith('.json'):\n",
        "        # 완전한 파일 경로 생성\n",
        "        file_path = os.path.join(channel_path, filename)\n",
        "\n",
        "        # 파일 열기 및 JSON 데이터 로드\n",
        "        try:\n",
        "            with open(file_path, 'r') as file:\n",
        "                data = json.load(file)\n",
        "                # print(f\"{filename}: {data}\")\n",
        "                convertFilename = filename.replace(\".json\", \"\")\n",
        "                jsonData = {\"date\": convertFilename, \"value\": data}\n",
        "                jsonDataList.append(jsonData)\n",
        "                FilenameList.append(convertFilename)\n",
        "                FilenameList.sort()\n",
        "        except json.JSONDecodeError:\n",
        "            print(f\"Error decoding JSON from file {filename}\")\n",
        "        except Exception as e:\n",
        "            print(f\"An error occurred while reading {filename}: {e}\")\n",
        "\n",
        "print(\"총 일자: \", len(jsonDataList))\n",
        "print(\"파일 개수: \", len(FilenameList))\n",
        "print(\"파일 명: \", FilenameList)\n",
        "\n",
        "print(jsonDataList[153])"
      ],
      "metadata": {
        "id": "z9rLcgsSFHOz",
        "colab": {
          "base_uri": "https://localhost:8080/"
        },
        "outputId": "5fe3e64a-f4de-487d-f362-4d3e7c89e03e"
      },
      "execution_count": 2,
      "outputs": [
        {
          "output_type": "stream",
          "name": "stdout",
          "text": [
            "folder_path: /content/drive/My Drive/data/slack/UP_AI_1기_Slack\n",
            "channel_path: /content/drive/My Drive/data/slack/UP_AI_1기_Slack/4_행정문의방\n",
            "총 일자:  154\n",
            "파일 개수:  154\n",
            "파일 명:  ['2023-10-03', '2023-10-04', '2023-10-05', '2023-10-09', '2023-10-10', '2023-10-11', '2023-10-12', '2023-10-13', '2023-10-15', '2023-10-16', '2023-10-17', '2023-10-18', '2023-10-19', '2023-10-20', '2023-10-21', '2023-10-22', '2023-10-23', '2023-10-24', '2023-10-25', '2023-10-26', '2023-10-27', '2023-10-29', '2023-10-30', '2023-10-31', '2023-11-01', '2023-11-02', '2023-11-03', '2023-11-05', '2023-11-06', '2023-11-07', '2023-11-08', '2023-11-09', '2023-11-10', '2023-11-12', '2023-11-13', '2023-11-14', '2023-11-15', '2023-11-16', '2023-11-17', '2023-11-19', '2023-11-20', '2023-11-21', '2023-11-22', '2023-11-23', '2023-11-24', '2023-11-25', '2023-11-26', '2023-11-27', '2023-11-28', '2023-11-29', '2023-11-30', '2023-12-03', '2023-12-05', '2023-12-06', '2023-12-07', '2023-12-10', '2023-12-11', '2023-12-12', '2023-12-13', '2023-12-14', '2023-12-17', '2023-12-19', '2023-12-20', '2023-12-21', '2023-12-22', '2023-12-25', '2023-12-26', '2023-12-27', '2023-12-28', '2023-12-29', '2024-01-02', '2024-01-03', '2024-01-04', '2024-01-05', '2024-01-08', '2024-01-09', '2024-01-10', '2024-01-11', '2024-01-14', '2024-01-15', '2024-01-18', '2024-01-21', '2024-01-22', '2024-01-23', '2024-01-24', '2024-01-25', '2024-01-28', '2024-01-29', '2024-01-31', '2024-02-04', '2024-02-05', '2024-02-07', '2024-02-12', '2024-02-13', '2024-02-14', '2024-02-15', '2024-02-18', '2024-02-20', '2024-02-21', '2024-02-22', '2024-02-25', '2024-02-26', '2024-02-27', '2024-02-28', '2024-03-03', '2024-03-04', '2024-03-05', '2024-03-06', '2024-03-07', '2024-03-08', '2024-03-10', '2024-03-12', '2024-03-13', '2024-03-14', '2024-03-15', '2024-03-17', '2024-03-18', '2024-03-19', '2024-03-20', '2024-03-21', '2024-03-24', '2024-03-25', '2024-03-26', '2024-03-29', '2024-03-31', '2024-04-01', '2024-04-04', '2024-04-05', '2024-04-07', '2024-04-08', '2024-04-09', '2024-04-10', '2024-04-14', '2024-04-15', '2024-04-16', '2024-04-17', '2024-04-18', '2024-04-22', '2024-04-23', '2024-04-24', '2024-04-25', '2024-04-29', '2024-04-30', '2024-05-01', '2024-05-02', '2024-05-06', '2024-05-07', '2024-05-08', '2024-05-13', '2024-05-15', '2024-05-16', '2024-05-19', '2024-05-22', 'canvas_in_the_conversation']\n",
            "{'date': '2024-05-16', 'value': [{'user': 'U05VC7EEY5Q', 'type': 'message', 'ts': '1715847185.535619', 'client_msg_id': 'e53d40b6-e5df-43d1-b04d-8b2707b690bb', 'text': '<@U05UNC6FNK1> <@U05V81G5ZDY>\\n대상 : 국민취업지원 서류\\n필요한 기간 : 3월 23일 ~ 4월 22일\\n필요 서류 : 출석부\\n이메일 : <mailto:kangs7777@naver.com|kangs7777@naver.com>\\n연락처 : 01053546438\\n\\n안녕하세요 출석부 요청드립니다. 감사합니다!', 'team': 'T05UGFFGL07', 'user_team': 'T05UGFFGL07', 'source_team': 'T05UGFFGL07', 'user_profile': {'avatar_hash': '41b3eab94662', 'image_72': 'https://avatars.slack-edge.com/2023-10-06/6000541892291_41b3eab946625ecd1c69_72.jpg', 'first_name': '강승현', 'real_name': '강승현', 'display_name': '강승현', 'team': 'T05UGFFGL07', 'name': 'kangs7777', 'is_restricted': False, 'is_ultra_restricted': False}, 'thread_ts': '1715847185.535619', 'reply_count': 2, 'reply_users_count': 2, 'latest_reply': '1716164658.348789', 'reply_users': ['U05VC7EEY5Q', 'U05UNC6FNK1'], 'replies': [{'user': 'U05VC7EEY5Q', 'ts': '1715928549.577239'}, {'user': 'U05UNC6FNK1', 'ts': '1716164658.348789'}], 'is_locked': False, 'subscribed': False, 'blocks': [{'type': 'rich_text', 'block_id': 'ODp9M', 'elements': [{'type': 'rich_text_section', 'elements': [{'type': 'user', 'user_id': 'U05UNC6FNK1'}, {'type': 'text', 'text': ' '}, {'type': 'user', 'user_id': 'U05V81G5ZDY'}, {'type': 'text', 'text': '\\n대상 : 국민취업지원 서류\\n필요한 기간 : 3월 23일 ~ 4월 22일\\n필요 서류 : 출석부\\n이메일 : '}, {'type': 'link', 'url': 'mailto:kangs7777@naver.com', 'text': 'kangs7777@naver.com'}, {'type': 'text', 'text': '\\n연락처 : 01053546438\\n\\n안녕하세요 출석부 요청드립니다. 감사합니다!'}]}]}]}, {'user': 'U05V5H1T24V', 'type': 'message', 'ts': '1715903174.808929', 'client_msg_id': 'BC3A8D11-E6B1-4F5B-9B59-DF6D1171072D', 'text': '<@U05UNC6FNK1> <@U05V81G5ZDY> \\n최종 만족도 조사가 계속 뜨지 않아 말씀드립니다. \\n확인 부탁드립니다!', 'team': 'T05UGFFGL07', 'user_team': 'T05UGFFGL07', 'source_team': 'T05UGFFGL07', 'user_profile': {'avatar_hash': '7c6706ce6504', 'image_72': 'https://avatars.slack-edge.com/2023-10-05/5987883585126_7c6706ce65044c7fba85_72.png', 'first_name': '서재현', 'real_name': '서재현', 'display_name': '서재현', 'team': 'T05UGFFGL07', 'name': 'jaehyeon4037', 'is_restricted': False, 'is_ultra_restricted': False}, 'thread_ts': '1715903174.808929', 'reply_count': 4, 'reply_users_count': 2, 'latest_reply': '1715903605.323099', 'reply_users': ['U05UNC6FNK1', 'U05V5H1T24V'], 'replies': [{'user': 'U05UNC6FNK1', 'ts': '1715903245.073429'}, {'user': 'U05V5H1T24V', 'ts': '1715903262.597489'}, {'user': 'U05V5H1T24V', 'ts': '1715903407.665799'}, {'user': 'U05UNC6FNK1', 'ts': '1715903605.323099'}], 'is_locked': False, 'subscribed': False, 'blocks': [{'type': 'rich_text', 'block_id': 'GLGFe', 'elements': [{'type': 'rich_text_section', 'elements': [{'type': 'user', 'user_id': 'U05UNC6FNK1'}, {'type': 'text', 'text': ' '}, {'type': 'user', 'user_id': 'U05V81G5ZDY'}, {'type': 'text', 'text': ' \\n'}, {'type': 'text', 'text': '최종'}, {'type': 'text', 'text': ' '}, {'type': 'text', 'text': '만족도'}, {'type': 'text', 'text': ' '}, {'type': 'text', 'text': '조사가'}, {'type': 'text', 'text': ' '}, {'type': 'text', 'text': '계속'}, {'type': 'text', 'text': ' '}, {'type': 'text', 'text': '뜨지'}, {'type': 'text', 'text': ' '}, {'type': 'text', 'text': '않아'}, {'type': 'text', 'text': ' '}, {'type': 'text', 'text': '말씀드립니다'}, {'type': 'text', 'text': '. \\n'}, {'type': 'text', 'text': '확인'}, {'type': 'text', 'text': ' '}, {'type': 'text', 'text': '부탁드립니다'}, {'type': 'text', 'text': '!'}]}]}], 'reactions': [{'name': 'heavy_check_mark', 'users': ['U05UNC6FNK1'], 'count': 1}]}, {'user': 'U05UNC6FNK1', 'type': 'message', 'ts': '1715903245.073429', 'client_msg_id': '02c5c124-41d4-4d86-997d-711e9bdde0fb', 'text': '재현님 지금 수료처리했는데 , 변동되었는지 한번 확인해주세요', 'team': 'T05UGFFGL07', 'user_team': 'T05UGFFGL07', 'source_team': 'T05UGFFGL07', 'user_profile': {'avatar_hash': '260d154ea1e2', 'image_72': 'https://avatars.slack-edge.com/2023-10-05/5979526758263_260d154ea1e2177fd001_72.jpg', 'first_name': 'FC', 'real_name': 'FC 하시안 매니저', 'display_name': 'FC 하시안 매니저', 'team': 'T05UGFFGL07', 'name': 'xianha', 'is_restricted': False, 'is_ultra_restricted': False}, 'thread_ts': '1715903174.808929', 'parent_user_id': 'U05V5H1T24V', 'blocks': [{'type': 'rich_text', 'block_id': 'gG/xs', 'elements': [{'type': 'rich_text_section', 'elements': [{'type': 'text', 'text': '재현님 지금 수료처리했는데 , 변동되었는지 한번 확인해주세요'}]}]}]}, {'user': 'U05V5H1T24V', 'type': 'message', 'ts': '1715903262.597489', 'client_msg_id': '9642D806-1A81-4EB2-82B5-E38568909D67', 'text': '잠시만요!', 'team': 'T05UGFFGL07', 'user_team': 'T05UGFFGL07', 'source_team': 'T05UGFFGL07', 'user_profile': {'avatar_hash': '7c6706ce6504', 'image_72': 'https://avatars.slack-edge.com/2023-10-05/5987883585126_7c6706ce65044c7fba85_72.png', 'first_name': '서재현', 'real_name': '서재현', 'display_name': '서재현', 'team': 'T05UGFFGL07', 'name': 'jaehyeon4037', 'is_restricted': False, 'is_ultra_restricted': False}, 'thread_ts': '1715903174.808929', 'parent_user_id': 'U05V5H1T24V', 'blocks': [{'type': 'rich_text', 'block_id': '/zXqY', 'elements': [{'type': 'rich_text_section', 'elements': [{'type': 'text', 'text': '잠시만요'}, {'type': 'text', 'text': '!'}]}]}]}, {'user': 'U05V5H1T24V', 'type': 'message', 'ts': '1715903407.665799', 'client_msg_id': 'E4426CC1-833E-48E7-B42D-CF1FF9E42209', 'text': '<@U05UNC6FNK1> 변동되었습니다 ! 감사합니다!', 'team': 'T05UGFFGL07', 'user_team': 'T05UGFFGL07', 'source_team': 'T05UGFFGL07', 'user_profile': {'avatar_hash': '7c6706ce6504', 'image_72': 'https://avatars.slack-edge.com/2023-10-05/5987883585126_7c6706ce65044c7fba85_72.png', 'first_name': '서재현', 'real_name': '서재현', 'display_name': '서재현', 'team': 'T05UGFFGL07', 'name': 'jaehyeon4037', 'is_restricted': False, 'is_ultra_restricted': False}, 'thread_ts': '1715903174.808929', 'parent_user_id': 'U05V5H1T24V', 'blocks': [{'type': 'rich_text', 'block_id': 'Zoi8k', 'elements': [{'type': 'rich_text_section', 'elements': [{'type': 'user', 'user_id': 'U05UNC6FNK1'}, {'type': 'text', 'text': ' '}, {'type': 'text', 'text': '변동되었습니다'}, {'type': 'text', 'text': ' ! '}, {'type': 'text', 'text': '감사합니다'}, {'type': 'text', 'text': '!'}]}]}], 'reactions': [{'name': 'raised_hands::skin-tone-2', 'users': ['U05UNC6FNK1'], 'count': 1}]}, {'user': 'U05UNC6FNK1', 'type': 'message', 'ts': '1715903605.323099', 'client_msg_id': '36653754-b337-4d9e-b33b-6e964d4ba45e', 'text': '오 다행입니다! 감사합니다!', 'team': 'T05UGFFGL07', 'user_team': 'T05UGFFGL07', 'source_team': 'T05UGFFGL07', 'user_profile': {'avatar_hash': '260d154ea1e2', 'image_72': 'https://avatars.slack-edge.com/2023-10-05/5979526758263_260d154ea1e2177fd001_72.jpg', 'first_name': 'FC', 'real_name': 'FC 하시안 매니저', 'display_name': 'FC 하시안 매니저', 'team': 'T05UGFFGL07', 'name': 'xianha', 'is_restricted': False, 'is_ultra_restricted': False}, 'thread_ts': '1715903174.808929', 'parent_user_id': 'U05V5H1T24V', 'blocks': [{'type': 'rich_text', 'block_id': 'NlinK', 'elements': [{'type': 'rich_text_section', 'elements': [{'type': 'text', 'text': '오 다행입니다! 감사합니다!'}]}]}], 'reactions': [{'name': '대답', 'users': ['U05V5H1T24V'], 'count': 1}]}, {'user': 'U05UW74NJ0N', 'type': 'message', 'ts': '1715906957.076199', 'client_msg_id': '0054a54c-bb47-4b74-96e9-1752c7adeace', 'text': '<@U05UNC6FNK1> 저도 만족도 조사가 뜨지 않아서요.. 부탁 좀 드리겠습니다.', 'team': 'T05UGFFGL07', 'user_team': 'T05UGFFGL07', 'source_team': 'T05UGFFGL07', 'user_profile': {'avatar_hash': 'gf4e3c8b4c9e', 'image_72': 'https://secure.gravatar.com/avatar/f4e3c8b4c9eebf87b0a9a7969b1a5c6a.jpg?s=72&d=https%3A%2F%2Fa.slack-edge.com%2Fdf10d%2Fimg%2Favatars%2Fava_0005-72.png', 'first_name': '우승현', 'real_name': '우승현', 'display_name': '우승현', 'team': 'T05UGFFGL07', 'name': 'fromwsh', 'is_restricted': False, 'is_ultra_restricted': False}, 'thread_ts': '1715906957.076199', 'reply_count': 2, 'reply_users_count': 2, 'latest_reply': '1715907513.568289', 'reply_users': ['U05UNC6FNK1', 'U05UW74NJ0N'], 'replies': [{'user': 'U05UNC6FNK1', 'ts': '1715907042.580159'}, {'user': 'U05UW74NJ0N', 'ts': '1715907513.568289'}], 'is_locked': False, 'subscribed': False, 'blocks': [{'type': 'rich_text', 'block_id': '5YXt0', 'elements': [{'type': 'rich_text_section', 'elements': [{'type': 'user', 'user_id': 'U05UNC6FNK1'}, {'type': 'text', 'text': ' 저도 만족도 조사가 뜨지 않아서요.. 부탁 좀 드리겠습니다.'}]}]}], 'reactions': [{'name': 'heavy_check_mark', 'users': ['U05UNC6FNK1'], 'count': 1}]}, {'user': 'U05UNC6FNK1', 'type': 'message', 'ts': '1715907042.580159', 'client_msg_id': '3454a614-3586-4d67-ae75-a5a2228fb89c', 'text': '승현님 처리해드렸습니다!', 'team': 'T05UGFFGL07', 'user_team': 'T05UGFFGL07', 'source_team': 'T05UGFFGL07', 'user_profile': {'avatar_hash': '260d154ea1e2', 'image_72': 'https://avatars.slack-edge.com/2023-10-05/5979526758263_260d154ea1e2177fd001_72.jpg', 'first_name': 'FC', 'real_name': 'FC 하시안 매니저', 'display_name': 'FC 하시안 매니저', 'team': 'T05UGFFGL07', 'name': 'xianha', 'is_restricted': False, 'is_ultra_restricted': False}, 'thread_ts': '1715906957.076199', 'parent_user_id': 'U05UW74NJ0N', 'blocks': [{'type': 'rich_text', 'block_id': '7Qs+I', 'elements': [{'type': 'rich_text_section', 'elements': [{'type': 'text', 'text': '승현님 처리해드렸습니다!'}]}]}]}, {'user': 'U05UW74NJ0N', 'type': 'message', 'ts': '1715907513.568289', 'client_msg_id': '56ce57b9-f954-4df6-90a8-710a777904c8', 'text': '감사합니다. 잘 됩니다~:grinning:', 'team': 'T05UGFFGL07', 'user_team': 'T05UGFFGL07', 'source_team': 'T05UGFFGL07', 'user_profile': {'avatar_hash': 'gf4e3c8b4c9e', 'image_72': 'https://secure.gravatar.com/avatar/f4e3c8b4c9eebf87b0a9a7969b1a5c6a.jpg?s=72&d=https%3A%2F%2Fa.slack-edge.com%2Fdf10d%2Fimg%2Favatars%2Fava_0005-72.png', 'first_name': '우승현', 'real_name': '우승현', 'display_name': '우승현', 'team': 'T05UGFFGL07', 'name': 'fromwsh', 'is_restricted': False, 'is_ultra_restricted': False}, 'thread_ts': '1715906957.076199', 'parent_user_id': 'U05UW74NJ0N', 'blocks': [{'type': 'rich_text', 'block_id': 'WCs+w', 'elements': [{'type': 'rich_text_section', 'elements': [{'type': 'text', 'text': '감사합니다. 잘 됩니다~'}, {'type': 'emoji', 'name': 'grinning', 'unicode': '1f600'}]}]}]}, {'user': 'U060BLVQYHW', 'type': 'message', 'ts': '1715907957.862639', 'client_msg_id': '11184ad0-76b8-4ada-b278-1157eaf7d72b', 'text': '<@U05UNC6FNK1> 감사합니다!', 'team': 'T05UGFFGL07', 'user_team': 'T05UGFFGL07', 'source_team': 'T05UGFFGL07', 'user_profile': {'avatar_hash': 'g6cb970458b5', 'image_72': 'https://secure.gravatar.com/avatar/6cb970458b5672091fa231bd078f93da.jpg?s=72&d=https%3A%2F%2Fa.slack-edge.com%2Fdf10d%2Fimg%2Favatars%2Fava_0025-72.png', 'first_name': 'Sang', 'real_name': 'Sang Hyuk SEO', 'display_name': '서상혁', 'team': 'T05UGFFGL07', 'name': 'happer96', 'is_restricted': False, 'is_ultra_restricted': False}, 'thread_ts': '1715648940.866459', 'parent_user_id': 'U060BLVQYHW', 'blocks': [{'type': 'rich_text', 'block_id': 'NIdSZ', 'elements': [{'type': 'rich_text_section', 'elements': [{'type': 'user', 'user_id': 'U05UNC6FNK1'}, {'type': 'text', 'text': ' 감사합니다!'}]}]}], 'reactions': [{'name': 'raised_hands::skin-tone-2', 'users': ['U05UNC6FNK1'], 'count': 1}]}, {'user': 'U05VC7EEY5Q', 'type': 'message', 'ts': '1715928549.577239', 'client_msg_id': 'D5843C90-8255-48B2-AA6C-09A4247D421F', 'text': '<@U05UNC6FNK1> <@U05V81G5ZDY> 출석부 요청드립니다!', 'team': 'T05UGFFGL07', 'user_team': 'T05UGFFGL07', 'source_team': 'T05UGFFGL07', 'user_profile': {'avatar_hash': '41b3eab94662', 'image_72': 'https://avatars.slack-edge.com/2023-10-06/6000541892291_41b3eab946625ecd1c69_72.jpg', 'first_name': '강승현', 'real_name': '강승현', 'display_name': '강승현', 'team': 'T05UGFFGL07', 'name': 'kangs7777', 'is_restricted': False, 'is_ultra_restricted': False}, 'thread_ts': '1715847185.535619', 'parent_user_id': 'U05VC7EEY5Q', 'blocks': [{'type': 'rich_text', 'block_id': 'yd6ac', 'elements': [{'type': 'rich_text_section', 'elements': [{'type': 'user', 'user_id': 'U05UNC6FNK1'}, {'type': 'text', 'text': ' '}, {'type': 'user', 'user_id': 'U05V81G5ZDY'}, {'type': 'text', 'text': ' 출석부 요청드립니다!'}]}]}]}]}\n"
          ]
        }
      ]
    },
    {
      "cell_type": "code",
      "source": [
        "jsonDataList[0]"
      ],
      "metadata": {
        "id": "2Mt_aCBQ3yi2",
        "colab": {
          "base_uri": "https://localhost:8080/"
        },
        "outputId": "5d7e26d3-ddcc-4c88-a3f5-2ca5b171003d"
      },
      "execution_count": null,
      "outputs": [
        {
          "output_type": "execute_result",
          "data": {
            "text/plain": [
              "{'2023-10-03': [{'subtype': 'channel_join',\n",
              "   'user': 'U06061L4S64',\n",
              "   'text': '<@U06061L4S64> 님이 채널에 참여함',\n",
              "   'type': 'message',\n",
              "   'ts': '1696343114.884549'},\n",
              "  {'subtype': 'channel_join',\n",
              "   'user': 'U05UYAVRTSR',\n",
              "   'text': '<@U05UYAVRTSR> 님이 채널에 참여함',\n",
              "   'type': 'message',\n",
              "   'ts': '1696381895.015479'}]}"
            ]
          },
          "metadata": {},
          "execution_count": 59
        }
      ]
    },
    {
      "cell_type": "code",
      "source": [
        "date = '2024-05-16'\n",
        "listNum = 153\n",
        "print(\"jsonDataList_Origin: \", jsonDataList[listNum][date][0])\n",
        "dataLength = len(jsonDataList[listNum][date][0])\n",
        "print(\"dataLength: \",dataLength)\n",
        "\n",
        "# message 1 / writer: jsonDataList[2]['2023-10-05'][0]['user_profile']['display_name']\n",
        "# message 1 / content: jsonDataList[2]['2023-10-05'][0]['text']\n",
        "# print(\"writer: \" + jsonDataList[2]['2023-10-05'][0]['user_profile']['display_name'])\n",
        "# print(\"message: \" + jsonDataList[2]['2023-10-05'][0]['text'])\n",
        "\n",
        "dailyMessageList = []\n",
        "for j in range(dataLength):\n",
        "  print(\"j: \", j)\n",
        "  writer = jsonDataList[listNum][date][j]['user_profile']['display_name']\n",
        "  message = jsonDataList[listNum][date][j]['text']\n",
        "  client_msg_id = jsonDataList[listNum][date][j]['client_msg_id']\n",
        "  jsonMessage = { 'writer' : writer, 'message' : message, 'client_msg_id' : client_msg_id }\n",
        "  dailyMessageList.append(jsonMessage)\n",
        "\n",
        "print(dailyMessageList)"
      ],
      "metadata": {
        "colab": {
          "base_uri": "https://localhost:8080/",
          "height": 498
        },
        "id": "SBDbrXy0PvjH",
        "outputId": "c10e7b32-457e-4cd9-9a7b-ba01b1c314da"
      },
      "execution_count": null,
      "outputs": [
        {
          "output_type": "stream",
          "name": "stdout",
          "text": [
            "jsonDataList_Origin:  {'user': 'U05VC7EEY5Q', 'type': 'message', 'ts': '1715847185.535619', 'client_msg_id': 'e53d40b6-e5df-43d1-b04d-8b2707b690bb', 'text': '<@U05UNC6FNK1> <@U05V81G5ZDY>\\n대상 : 국민취업지원 서류\\n필요한 기간 : 3월 23일 ~ 4월 22일\\n필요 서류 : 출석부\\n이메일 : <mailto:kangs7777@naver.com|kangs7777@naver.com>\\n연락처 : 01053546438\\n\\n안녕하세요 출석부 요청드립니다. 감사합니다!', 'team': 'T05UGFFGL07', 'user_team': 'T05UGFFGL07', 'source_team': 'T05UGFFGL07', 'user_profile': {'avatar_hash': '41b3eab94662', 'image_72': 'https://avatars.slack-edge.com/2023-10-06/6000541892291_41b3eab946625ecd1c69_72.jpg', 'first_name': '강승현', 'real_name': '강승현', 'display_name': '강승현', 'team': 'T05UGFFGL07', 'name': 'kangs7777', 'is_restricted': False, 'is_ultra_restricted': False}, 'thread_ts': '1715847185.535619', 'reply_count': 2, 'reply_users_count': 2, 'latest_reply': '1716164658.348789', 'reply_users': ['U05VC7EEY5Q', 'U05UNC6FNK1'], 'replies': [{'user': 'U05VC7EEY5Q', 'ts': '1715928549.577239'}, {'user': 'U05UNC6FNK1', 'ts': '1716164658.348789'}], 'is_locked': False, 'subscribed': False, 'blocks': [{'type': 'rich_text', 'block_id': 'ODp9M', 'elements': [{'type': 'rich_text_section', 'elements': [{'type': 'user', 'user_id': 'U05UNC6FNK1'}, {'type': 'text', 'text': ' '}, {'type': 'user', 'user_id': 'U05V81G5ZDY'}, {'type': 'text', 'text': '\\n대상 : 국민취업지원 서류\\n필요한 기간 : 3월 23일 ~ 4월 22일\\n필요 서류 : 출석부\\n이메일 : '}, {'type': 'link', 'url': 'mailto:kangs7777@naver.com', 'text': 'kangs7777@naver.com'}, {'type': 'text', 'text': '\\n연락처 : 01053546438\\n\\n안녕하세요 출석부 요청드립니다. 감사합니다!'}]}]}]}\n",
            "dataLength:  18\n",
            "j:  0\n",
            "j:  1\n",
            "j:  2\n",
            "j:  3\n",
            "j:  4\n",
            "j:  5\n",
            "j:  6\n",
            "j:  7\n",
            "j:  8\n",
            "j:  9\n",
            "j:  10\n",
            "j:  11\n"
          ]
        },
        {
          "output_type": "error",
          "ename": "IndexError",
          "evalue": "list index out of range",
          "traceback": [
            "\u001b[0;31m---------------------------------------------------------------------------\u001b[0m",
            "\u001b[0;31mIndexError\u001b[0m                                Traceback (most recent call last)",
            "\u001b[0;32m<ipython-input-90-f546b4c061c4>\u001b[0m in \u001b[0;36m<cell line: 13>\u001b[0;34m()\u001b[0m\n\u001b[1;32m     13\u001b[0m \u001b[0;32mfor\u001b[0m \u001b[0mj\u001b[0m \u001b[0;32min\u001b[0m \u001b[0mrange\u001b[0m\u001b[0;34m(\u001b[0m\u001b[0mdataLength\u001b[0m\u001b[0;34m)\u001b[0m\u001b[0;34m:\u001b[0m\u001b[0;34m\u001b[0m\u001b[0;34m\u001b[0m\u001b[0m\n\u001b[1;32m     14\u001b[0m   \u001b[0mprint\u001b[0m\u001b[0;34m(\u001b[0m\u001b[0;34m\"j: \"\u001b[0m\u001b[0;34m,\u001b[0m \u001b[0mj\u001b[0m\u001b[0;34m)\u001b[0m\u001b[0;34m\u001b[0m\u001b[0;34m\u001b[0m\u001b[0m\n\u001b[0;32m---> 15\u001b[0;31m   \u001b[0mwriter\u001b[0m \u001b[0;34m=\u001b[0m \u001b[0mjsonDataList\u001b[0m\u001b[0;34m[\u001b[0m\u001b[0mlistNum\u001b[0m\u001b[0;34m]\u001b[0m\u001b[0;34m[\u001b[0m\u001b[0mdate\u001b[0m\u001b[0;34m]\u001b[0m\u001b[0;34m[\u001b[0m\u001b[0mj\u001b[0m\u001b[0;34m]\u001b[0m\u001b[0;34m[\u001b[0m\u001b[0;34m'user_profile'\u001b[0m\u001b[0;34m]\u001b[0m\u001b[0;34m[\u001b[0m\u001b[0;34m'display_name'\u001b[0m\u001b[0;34m]\u001b[0m\u001b[0;34m\u001b[0m\u001b[0;34m\u001b[0m\u001b[0m\n\u001b[0m\u001b[1;32m     16\u001b[0m   \u001b[0mmessage\u001b[0m \u001b[0;34m=\u001b[0m \u001b[0mjsonDataList\u001b[0m\u001b[0;34m[\u001b[0m\u001b[0mlistNum\u001b[0m\u001b[0;34m]\u001b[0m\u001b[0;34m[\u001b[0m\u001b[0mdate\u001b[0m\u001b[0;34m]\u001b[0m\u001b[0;34m[\u001b[0m\u001b[0mj\u001b[0m\u001b[0;34m]\u001b[0m\u001b[0;34m[\u001b[0m\u001b[0;34m'text'\u001b[0m\u001b[0;34m]\u001b[0m\u001b[0;34m\u001b[0m\u001b[0;34m\u001b[0m\u001b[0m\n\u001b[1;32m     17\u001b[0m   \u001b[0mclient_msg_id\u001b[0m \u001b[0;34m=\u001b[0m \u001b[0mjsonDataList\u001b[0m\u001b[0;34m[\u001b[0m\u001b[0mlistNum\u001b[0m\u001b[0;34m]\u001b[0m\u001b[0;34m[\u001b[0m\u001b[0mdate\u001b[0m\u001b[0;34m]\u001b[0m\u001b[0;34m[\u001b[0m\u001b[0mj\u001b[0m\u001b[0;34m]\u001b[0m\u001b[0;34m[\u001b[0m\u001b[0;34m'client_msg_id'\u001b[0m\u001b[0;34m]\u001b[0m\u001b[0;34m\u001b[0m\u001b[0;34m\u001b[0m\u001b[0m\n",
            "\u001b[0;31mIndexError\u001b[0m: list index out of range"
          ]
        }
      ]
    },
    {
      "cell_type": "markdown",
      "source": [
        "# 일별 메세지량 시각화"
      ],
      "metadata": {
        "id": "M2zeR93BP1M1"
      }
    },
    {
      "cell_type": "markdown",
      "source": [
        "## 1. 데이터 가져오기"
      ],
      "metadata": {
        "id": "GLKKi9V2vTMn"
      }
    },
    {
      "cell_type": "code",
      "source": [
        "import os\n",
        "import json\n",
        "import matplotlib.pyplot as plt\n",
        "\n",
        "# Directory containing JSON files\n",
        "directory = '/content/drive/My Drive/data/slack/UP_AI_1기_Slack/4_행정문의방'\n",
        "\n",
        "# Initialize an empty list to hold all messages\n",
        "all_messages = []\n",
        "\n",
        "# Loop through each file in the directory\n",
        "for filename in os.listdir(directory):\n",
        "    if filename.endswith('.json'):\n",
        "        file_path = os.path.join(directory, filename)\n",
        "        with open(file_path, 'r') as file:\n",
        "            data = json.load(file)\n",
        "            all_messages.extend(data)  # Assuming each file contains a list of messages\n",
        "\n",
        "print(f\"Total messages loaded: {len(all_messages)}\")"
      ],
      "metadata": {
        "colab": {
          "base_uri": "https://localhost:8080/"
        },
        "id": "IJnO35-pv5ke",
        "outputId": "5a78af4d-98e6-4788-9feb-4dd8b7be21ca"
      },
      "execution_count": null,
      "outputs": [
        {
          "output_type": "stream",
          "name": "stdout",
          "text": [
            "Total messages loaded: 1098\n"
          ]
        }
      ]
    },
    {
      "cell_type": "markdown",
      "source": [
        "\n",
        "## 2. 결측치 데이터 확인 및 제거"
      ],
      "metadata": {
        "id": "gv9_CDPoyeL9"
      }
    },
    {
      "cell_type": "markdown",
      "source": [
        "### 2-1. 결측치 데이터 확인"
      ],
      "metadata": {
        "id": "NCYXsXMYG4Vb"
      }
    },
    {
      "cell_type": "code",
      "source": [
        "import pandas as pd\n",
        "\n",
        "# Create a DataFrame from the messages\n",
        "df = pd.DataFrame(all_messages)\n",
        "\n",
        "# Check for missing 'ts' values\n",
        "missing_ts_df = df[df['ts'].isnull()]\n",
        "\n",
        "# Print DataFrame with missing 'ts' values\n",
        "print(\"Messages with missing 'ts' values:\")\n",
        "print(missing_ts_df)"
      ],
      "metadata": {
        "colab": {
          "base_uri": "https://localhost:8080/"
        },
        "id": "fM2YzfM7yhsx",
        "outputId": "060c7753-96ad-4ad4-f964-1bf64518208b"
      },
      "execution_count": null,
      "outputs": [
        {
          "output_type": "stream",
          "name": "stdout",
          "text": [
            "Messages with missing 'ts' values:\n",
            "     subtype       user text type   ts client_msg_id team user_team  \\\n",
            "1080     NaN  USLACKBOT  NaN  NaN  NaN           NaN  NaN       NaN   \n",
            "\n",
            "     source_team user_profile  ... pretty_type  editable  size  mode  \\\n",
            "1080         NaN          NaN  ...      Canvas      True   0.0  quip   \n",
            "\n",
            "     is_public is_tombstoned public_url_shared date_delete  \\\n",
            "1080      True         False             False         0.0   \n",
            "\n",
            "                                   url_private_download  \\\n",
            "1080  https://files.slack.com/files-pri/T05UGFFGL07-...   \n",
            "\n",
            "                                                 shares  \n",
            "1080  [{'team': 'T05UGFFGL07', 'channel': 'C05V0H8H3...  \n",
            "\n",
            "[1 rows x 45 columns]\n"
          ]
        }
      ]
    },
    {
      "cell_type": "markdown",
      "source": [
        "### 2-2. 결측치 데이터 제거"
      ],
      "metadata": {
        "id": "3xa2r15IG7RG"
      }
    },
    {
      "cell_type": "code",
      "source": [
        "# Filter out rows with missing 'ts'\n",
        "df = df.dropna(subset=['ts'])"
      ],
      "metadata": {
        "id": "n2r3xikqG-M6"
      },
      "execution_count": null,
      "outputs": []
    },
    {
      "cell_type": "markdown",
      "source": [
        "### 2-3. Datetime 형식 변환"
      ],
      "metadata": {
        "id": "N3duR7wGHXku"
      }
    },
    {
      "cell_type": "code",
      "source": [
        "from datetime import datetime\n",
        "\n",
        "# Convert timestamp to datetime and extract date\n",
        "# df['date'] = df['ts'].apply(lambda x: datetime.fromtimestamp(float(x)).strftime('%Y-%m-%d'))\n",
        "df['date'] = df['ts'].apply(lambda x: datetime.fromtimestamp(float(x)).strftime('%y/%m/%d'))"
      ],
      "metadata": {
        "id": "HZH--w5_Hc7g"
      },
      "execution_count": null,
      "outputs": []
    },
    {
      "cell_type": "markdown",
      "source": [
        "## 3. 일별 메시지 수치화"
      ],
      "metadata": {
        "id": "JjA3YNEvwRBN"
      }
    },
    {
      "cell_type": "markdown",
      "source": [
        "### 3-1. 일별 메시지 계산"
      ],
      "metadata": {
        "id": "xWlK5rmYHmvL"
      }
    },
    {
      "cell_type": "code",
      "source": [
        "# Group by date and count messages\n",
        "message_count = df['date'].value_counts().sort_index()\n",
        "\n",
        "# Convert the result to a DataFrame\n",
        "message_count_df = message_count.reset_index()\n",
        "message_count_df.columns = ['Date', 'Message Count']\n",
        "\n",
        "# Print the message count DataFrame\n",
        "print(\"Message count per day:\")\n",
        "print(message_count_df)"
      ],
      "metadata": {
        "colab": {
          "base_uri": "https://localhost:8080/"
        },
        "id": "tViCHg4dwbMx",
        "outputId": "55b31879-567c-44f5-a0a2-4c09beaf94fc"
      },
      "execution_count": null,
      "outputs": [
        {
          "output_type": "stream",
          "name": "stdout",
          "text": [
            "Message count per day:\n",
            "         Date  Message Count\n",
            "0    23/10/03              1\n",
            "1    23/10/04             18\n",
            "2    23/10/05             26\n",
            "3    23/10/06             16\n",
            "4    23/10/09              3\n",
            "..        ...            ...\n",
            "141  24/05/14              5\n",
            "142  24/05/16             10\n",
            "143  24/05/17              5\n",
            "144  24/05/20              1\n",
            "145  24/05/23              1\n",
            "\n",
            "[146 rows x 2 columns]\n"
          ]
        }
      ]
    },
    {
      "cell_type": "code",
      "source": [
        "import streamlit as st\n",
        "import matplotlib.pyplot as plt\n",
        "\n",
        "# Streamlit App\n",
        "st.title('Slack Message Volume by Date')\n",
        "\n",
        "# Display the data\n",
        "st.write(message_count_df)\n",
        "\n",
        "# Plot the data\n",
        "fig, ax = plt.subplots(figsize=(10, 5))\n",
        "ax.bar(message_count_df['Date'], message_count_df['Message Count'], color='blue')\n",
        "plt.xlabel('Date')\n",
        "plt.ylabel('Number of Messages')\n",
        "plt.title('Number of Messages per Day in Slack')\n",
        "plt.xticks(rotation=45)\n",
        "plt.tight_layout()\n",
        "\n",
        "# Display the plot\n",
        "st.pyplot(fig)"
      ],
      "metadata": {
        "colab": {
          "base_uri": "https://localhost:8080/",
          "height": 400
        },
        "id": "jEXeUd20wb9Y",
        "outputId": "517f47ac-b8f0-4519-f818-6ee43771d52a"
      },
      "execution_count": null,
      "outputs": [
        {
          "output_type": "error",
          "ename": "ModuleNotFoundError",
          "evalue": "No module named 'streamlit'",
          "traceback": [
            "\u001b[0;31m---------------------------------------------------------------------------\u001b[0m",
            "\u001b[0;31mModuleNotFoundError\u001b[0m                       Traceback (most recent call last)",
            "\u001b[0;32m<ipython-input-3-be9bb7714b3b>\u001b[0m in \u001b[0;36m<cell line: 1>\u001b[0;34m()\u001b[0m\n\u001b[0;32m----> 1\u001b[0;31m \u001b[0;32mimport\u001b[0m \u001b[0mstreamlit\u001b[0m \u001b[0;32mas\u001b[0m \u001b[0mst\u001b[0m\u001b[0;34m\u001b[0m\u001b[0;34m\u001b[0m\u001b[0m\n\u001b[0m\u001b[1;32m      2\u001b[0m \u001b[0;32mimport\u001b[0m \u001b[0mmatplotlib\u001b[0m\u001b[0;34m.\u001b[0m\u001b[0mpyplot\u001b[0m \u001b[0;32mas\u001b[0m \u001b[0mplt\u001b[0m\u001b[0;34m\u001b[0m\u001b[0;34m\u001b[0m\u001b[0m\n\u001b[1;32m      3\u001b[0m \u001b[0;34m\u001b[0m\u001b[0m\n\u001b[1;32m      4\u001b[0m \u001b[0;31m# Streamlit App\u001b[0m\u001b[0;34m\u001b[0m\u001b[0;34m\u001b[0m\u001b[0m\n\u001b[1;32m      5\u001b[0m \u001b[0mst\u001b[0m\u001b[0;34m.\u001b[0m\u001b[0mtitle\u001b[0m\u001b[0;34m(\u001b[0m\u001b[0;34m'Slack Message Volume by Date'\u001b[0m\u001b[0;34m)\u001b[0m\u001b[0;34m\u001b[0m\u001b[0;34m\u001b[0m\u001b[0m\n",
            "\u001b[0;31mModuleNotFoundError\u001b[0m: No module named 'streamlit'",
            "",
            "\u001b[0;31m---------------------------------------------------------------------------\u001b[0;32m\nNOTE: If your import is failing due to a missing package, you can\nmanually install dependencies using either !pip or !apt.\n\nTo view examples of installing some common dependencies, click the\n\"Open Examples\" button below.\n\u001b[0;31m---------------------------------------------------------------------------\u001b[0m\n"
          ],
          "errorDetails": {
            "actions": [
              {
                "action": "open_url",
                "actionText": "Open Examples",
                "url": "/notebooks/snippets/importing_libraries.ipynb"
              }
            ]
          }
        }
      ]
    },
    {
      "cell_type": "markdown",
      "source": [
        "### 3-2. 일별 메시지_시각화 버전 1(matplot)"
      ],
      "metadata": {
        "id": "nh55D3fCBDJf"
      }
    },
    {
      "cell_type": "code",
      "source": [
        "import matplotlib.pyplot as plt\n",
        "\n",
        "# Plot the data\n",
        "plt.figure(figsize=(10, 5))\n",
        "plt.bar(message_count_df['Date'], message_count_df['Message Count'], color='blue')\n",
        "plt.xlabel('Date')\n",
        "plt.ylabel('Number of Messages')\n",
        "plt.title('Number of Messages per Day in Slack')\n",
        "plt.xticks(rotation=45)\n",
        "plt.tight_layout()\n",
        "\n",
        "# Show only every n-th label\n",
        "n = 30  # Change this value to show labels at different intervals\n",
        "plt.gca().set_xticks(plt.gca().get_xticks()[::n])\n",
        "\n",
        "# Add grid for better readability\n",
        "plt.grid(axis='y', linestyle='--', alpha=0.7)\n",
        "\n",
        "plt.show()"
      ],
      "metadata": {
        "colab": {
          "base_uri": "https://localhost:8080/",
          "height": 506
        },
        "id": "DcPcpfKI0DkS",
        "outputId": "11ece105-b0b9-435c-83ca-cbf02cb39191"
      },
      "execution_count": null,
      "outputs": [
        {
          "output_type": "display_data",
          "data": {
            "text/plain": [
              "<Figure size 1000x500 with 1 Axes>"
            ],
            "image/png": "[encoded data removed]"
          },
          "metadata": {}
        }
      ]
    },
    {
      "cell_type": "markdown",
      "source": [
        "### 3-3. 일별 메시지_시각화 버전 2(plotly)"
      ],
      "metadata": {
        "id": "3U7AG8vszh-o"
      }
    },
    {
      "cell_type": "code",
      "source": [
        "# 최초 1회 실행\n",
        "!pip install plotly"
      ],
      "metadata": {
        "colab": {
          "base_uri": "https://localhost:8080/"
        },
        "id": "_ePPmNNUBb_f",
        "outputId": "5812ffbd-8ed4-4d5c-cb19-2fac0d1cb699"
      },
      "execution_count": null,
      "outputs": [
        {
          "output_type": "stream",
          "name": "stdout",
          "text": [
            "Requirement already satisfied: plotly in /usr/local/lib/python3.10/dist-packages (5.15.0)\n",
            "Requirement already satisfied: tenacity>=6.2.0 in /usr/local/lib/python3.10/dist-packages (from plotly) (8.3.0)\n",
            "Requirement already satisfied: packaging in /usr/local/lib/python3.10/dist-packages (from plotly) (24.0)\n"
          ]
        }
      ]
    },
    {
      "cell_type": "code",
      "source": [
        "import plotly.express as px\n",
        "\n",
        "# Plot the data using Plotly\n",
        "fig = px.bar(message_count_df, x='Date', y='Message Count',\n",
        "             labels={'Date': 'Date', 'Message Count': 'Number of Messages'},\n",
        "             title='Number of Messages per Day in Slack')\n",
        "\n",
        "# Update x-axis to show labels at specific intervals\n",
        "fig.update_xaxes(\n",
        "    tickmode='array',\n",
        "    tickvals=message_count_df['Date'][::5],  # Show every 5th label\n",
        "    ticktext=message_count_df['Date'][::5]   # Labels to show\n",
        ")\n",
        "\n",
        "# Show the plot\n",
        "fig.show()"
      ],
      "metadata": {
        "colab": {
          "base_uri": "https://localhost:8080/",
          "height": 542
        },
        "id": "cgRW3nIjBjnd",
        "outputId": "087a7c01-f2e2-4926-c54c-cacca64a731c"
      },
      "execution_count": null,
      "outputs": [
        {
          "output_type": "display_data",
          "data": {
            "text/html": [
              "<html>\n",
              "<head><meta charset=\"utf-8\" /></head>\n",
              "<body>\n",
              "    <div>            <script src=\"https://cdnjs.cloudflare.com/ajax/libs/mathjax/2.7.5/MathJax.js?config=TeX-AMS-MML_SVG\"></script><script type=\"text/javascript\">if (window.MathJax && window.MathJax.Hub && window.MathJax.Hub.Config) {window.MathJax.Hub.Config({SVG: {font: \"STIX-Web\"}});}</script>                <script type=\"text/javascript\">window.PlotlyConfig = {MathJaxConfig: 'local'};</script>\n",
              "        <script charset=\"utf-8\" src=\"https://cdn.plot.ly/plotly-2.24.1.min.js\"></script>                <div id=\"dfb38ca4-3ef2-4515-bb36-3766d3e85694\" class=\"plotly-graph-div\" style=\"height:525px; width:100%;\"></div>            <script type=\"text/javascript\">                                    window.PLOTLYENV=window.PLOTLYENV || {};                                    if (document.getElementById(\"dfb38ca4-3ef2-4515-bb36-3766d3e85694\")) {                    Plotly.newPlot(                        \"dfb38ca4-3ef2-4515-bb36-3766d3e85694\",                        [{\"alignmentgroup\":\"True\",\"hovertemplate\":\"Date=%{x}\\u003cbr\\u003eNumber of Messages=%{y}\\u003cextra\\u003e\\u003c\\u002fextra\\u003e\",\"legendgroup\":\"\",\"marker\":{\"color\":\"#636efa\",\"pattern\":{\"shape\":\"\"}},\"name\":\"\",\"offsetgroup\":\"\",\"orientation\":\"v\",\"showlegend\":false,\"textposition\":\"auto\",\"x\":[\"23\\u002f10\\u002f03\",\"23\\u002f10\\u002f04\",\"23\\u002f10\\u002f05\",\"23\\u002f10\\u002f06\",\"23\\u002f10\\u002f09\",\"23\\u002f10\\u002f10\",\"23\\u002f10\\u002f11\",\"23\\u002f10\\u002f12\",\"23\\u002f10\\u002f13\",\"23\\u002f10\\u002f14\",\"23\\u002f10\\u002f15\",\"23\\u002f10\\u002f16\",\"23\\u002f10\\u002f17\",\"23\\u002f10\\u002f18\",\"23\\u002f10\\u002f19\",\"23\\u002f10\\u002f20\",\"23\\u002f10\\u002f21\",\"23\\u002f10\\u002f23\",\"23\\u002f10\\u002f24\",\"23\\u002f10\\u002f25\",\"23\\u002f10\\u002f26\",\"23\\u002f10\\u002f27\",\"23\\u002f10\\u002f30\",\"23\\u002f10\\u002f31\",\"23\\u002f11\\u002f01\",\"23\\u002f11\\u002f02\",\"23\\u002f11\\u002f03\",\"23\\u002f11\\u002f06\",\"23\\u002f11\\u002f07\",\"23\\u002f11\\u002f08\",\"23\\u002f11\\u002f09\",\"23\\u002f11\\u002f10\",\"23\\u002f11\\u002f12\",\"23\\u002f11\\u002f13\",\"23\\u002f11\\u002f14\",\"23\\u002f11\\u002f15\",\"23\\u002f11\\u002f16\",\"23\\u002f11\\u002f17\",\"23\\u002f11\\u002f20\",\"23\\u002f11\\u002f21\",\"23\\u002f11\\u002f22\",\"23\\u002f11\\u002f23\",\"23\\u002f11\\u002f24\",\"23\\u002f11\\u002f26\",\"23\\u002f11\\u002f27\",\"23\\u002f11\\u002f28\",\"23\\u002f11\\u002f30\",\"23\\u002f12\\u002f01\",\"23\\u002f12\\u002f04\",\"23\\u002f12\\u002f06\",\"23\\u002f12\\u002f07\",\"23\\u002f12\\u002f08\",\"23\\u002f12\\u002f11\",\"23\\u002f12\\u002f12\",\"23\\u002f12\\u002f13\",\"23\\u002f12\\u002f14\",\"23\\u002f12\\u002f15\",\"23\\u002f12\\u002f17\",\"23\\u002f12\\u002f18\",\"23\\u002f12\\u002f20\",\"23\\u002f12\\u002f21\",\"23\\u002f12\\u002f22\",\"23\\u002f12\\u002f26\",\"23\\u002f12\\u002f27\",\"23\\u002f12\\u002f28\",\"23\\u002f12\\u002f29\",\"24\\u002f01\\u002f02\",\"24\\u002f01\\u002f03\",\"24\\u002f01\\u002f04\",\"24\\u002f01\\u002f05\",\"24\\u002f01\\u002f09\",\"24\\u002f01\\u002f10\",\"24\\u002f01\\u002f11\",\"24\\u002f01\\u002f12\",\"24\\u002f01\\u002f15\",\"24\\u002f01\\u002f19\",\"24\\u002f01\\u002f22\",\"24\\u002f01\\u002f23\",\"24\\u002f01\\u002f24\",\"24\\u002f01\\u002f25\",\"24\\u002f01\\u002f26\",\"24\\u002f01\\u002f29\",\"24\\u002f01\\u002f30\",\"24\\u002f02\\u002f01\",\"24\\u002f02\\u002f05\",\"24\\u002f02\\u002f06\",\"24\\u002f02\\u002f07\",\"24\\u002f02\\u002f08\",\"24\\u002f02\\u002f13\",\"24\\u002f02\\u002f14\",\"24\\u002f02\\u002f15\",\"24\\u002f02\\u002f19\",\"24\\u002f02\\u002f21\",\"24\\u002f02\\u002f22\",\"24\\u002f02\\u002f23\",\"24\\u002f02\\u002f26\",\"24\\u002f02\\u002f27\",\"24\\u002f02\\u002f28\",\"24\\u002f02\\u002f29\",\"24\\u002f03\\u002f04\",\"24\\u002f03\\u002f05\",\"24\\u002f03\\u002f06\",\"24\\u002f03\\u002f07\",\"24\\u002f03\\u002f08\",\"24\\u002f03\\u002f11\",\"24\\u002f03\\u002f12\",\"24\\u002f03\\u002f13\",\"24\\u002f03\\u002f14\",\"24\\u002f03\\u002f15\",\"24\\u002f03\\u002f18\",\"24\\u002f03\\u002f19\",\"24\\u002f03\\u002f20\",\"24\\u002f03\\u002f21\",\"24\\u002f03\\u002f25\",\"24\\u002f03\\u002f26\",\"24\\u002f03\\u002f27\",\"24\\u002f03\\u002f29\",\"24\\u002f04\\u002f01\",\"24\\u002f04\\u002f02\",\"24\\u002f04\\u002f04\",\"24\\u002f04\\u002f05\",\"24\\u002f04\\u002f07\",\"24\\u002f04\\u002f08\",\"24\\u002f04\\u002f09\",\"24\\u002f04\\u002f10\",\"24\\u002f04\\u002f11\",\"24\\u002f04\\u002f15\",\"24\\u002f04\\u002f16\",\"24\\u002f04\\u002f17\",\"24\\u002f04\\u002f18\",\"24\\u002f04\\u002f19\",\"24\\u002f04\\u002f23\",\"24\\u002f04\\u002f24\",\"24\\u002f04\\u002f25\",\"24\\u002f04\\u002f26\",\"24\\u002f04\\u002f30\",\"24\\u002f05\\u002f01\",\"24\\u002f05\\u002f02\",\"24\\u002f05\\u002f03\",\"24\\u002f05\\u002f07\",\"24\\u002f05\\u002f08\",\"24\\u002f05\\u002f14\",\"24\\u002f05\\u002f16\",\"24\\u002f05\\u002f17\",\"24\\u002f05\\u002f20\",\"24\\u002f05\\u002f23\"],\"xaxis\":\"x\",\"y\":[1,18,26,16,3,33,52,35,18,1,5,22,2,25,24,16,1,9,33,6,7,12,4,9,22,5,2,3,10,7,111,1,1,28,40,1,1,6,9,1,4,11,5,1,15,10,3,10,10,2,2,3,10,6,3,1,1,1,1,2,7,1,11,2,11,4,1,11,1,5,14,5,18,1,2,4,1,3,8,5,1,1,2,1,12,5,1,16,4,6,4,1,3,2,6,8,1,1,1,2,8,1,2,8,12,1,1,2,10,2,4,7,3,10,2,2,2,5,4,1,8,1,4,8,1,1,1,4,4,1,2,1,3,9,2,3,1,6,1,3,4,5,10,5,1,1],\"yaxis\":\"y\",\"type\":\"bar\"}],                        {\"template\":{\"data\":{\"histogram2dcontour\":[{\"type\":\"histogram2dcontour\",\"colorbar\":{\"outlinewidth\":0,\"ticks\":\"\"},\"colorscale\":[[0.0,\"#0d0887\"],[0.1111111111111111,\"#46039f\"],[0.2222222222222222,\"#7201a8\"],[0.3333333333333333,\"#9c179e\"],[0.4444444444444444,\"#bd3786\"],[0.5555555555555556,\"#d8576b\"],[0.6666666666666666,\"#ed7953\"],[0.7777777777777778,\"#fb9f3a\"],[0.8888888888888888,\"#fdca26\"],[1.0,\"#f0f921\"]]}],\"choropleth\":[{\"type\":\"choropleth\",\"colorbar\":{\"outlinewidth\":0,\"ticks\":\"\"}}],\"histogram2d\":[{\"type\":\"histogram2d\",\"colorbar\":{\"outlinewidth\":0,\"ticks\":\"\"},\"colorscale\":[[0.0,\"#0d0887\"],[0.1111111111111111,\"#46039f\"],[0.2222222222222222,\"#7201a8\"],[0.3333333333333333,\"#9c179e\"],[0.4444444444444444,\"#bd3786\"],[0.5555555555555556,\"#d8576b\"],[0.6666666666666666,\"#ed7953\"],[0.7777777777777778,\"#fb9f3a\"],[0.8888888888888888,\"#fdca26\"],[1.0,\"#f0f921\"]]}],\"heatmap\":[{\"type\":\"heatmap\",\"colorbar\":{\"outlinewidth\":0,\"ticks\":\"\"},\"colorscale\":[[0.0,\"#0d0887\"],[0.1111111111111111,\"#46039f\"],[0.2222222222222222,\"#7201a8\"],[0.3333333333333333,\"#9c179e\"],[0.4444444444444444,\"#bd3786\"],[0.5555555555555556,\"#d8576b\"],[0.6666666666666666,\"#ed7953\"],[0.7777777777777778,\"#fb9f3a\"],[0.8888888888888888,\"#fdca26\"],[1.0,\"#f0f921\"]]}],\"heatmapgl\":[{\"type\":\"heatmapgl\",\"colorbar\":{\"outlinewidth\":0,\"ticks\":\"\"},\"colorscale\":[[0.0,\"#0d0887\"],[0.1111111111111111,\"#46039f\"],[0.2222222222222222,\"#7201a8\"],[0.3333333333333333,\"#9c179e\"],[0.4444444444444444,\"#bd3786\"],[0.5555555555555556,\"#d8576b\"],[0.6666666666666666,\"#ed7953\"],[0.7777777777777778,\"#fb9f3a\"],[0.8888888888888888,\"#fdca26\"],[1.0,\"#f0f921\"]]}],\"contourcarpet\":[{\"type\":\"contourcarpet\",\"colorbar\":{\"outlinewidth\":0,\"ticks\":\"\"}}],\"contour\":[{\"type\":\"contour\",\"colorbar\":{\"outlinewidth\":0,\"ticks\":\"\"},\"colorscale\":[[0.0,\"#0d0887\"],[0.1111111111111111,\"#46039f\"],[0.2222222222222222,\"#7201a8\"],[0.3333333333333333,\"#9c179e\"],[0.4444444444444444,\"#bd3786\"],[0.5555555555555556,\"#d8576b\"],[0.6666666666666666,\"#ed7953\"],[0.7777777777777778,\"#fb9f3a\"],[0.8888888888888888,\"#fdca26\"],[1.0,\"#f0f921\"]]}],\"surface\":[{\"type\":\"surface\",\"colorbar\":{\"outlinewidth\":0,\"ticks\":\"\"},\"colorscale\":[[0.0,\"#0d0887\"],[0.1111111111111111,\"#46039f\"],[0.2222222222222222,\"#7201a8\"],[0.3333333333333333,\"#9c179e\"],[0.4444444444444444,\"#bd3786\"],[0.5555555555555556,\"#d8576b\"],[0.6666666666666666,\"#ed7953\"],[0.7777777777777778,\"#fb9f3a\"],[0.8888888888888888,\"#fdca26\"],[1.0,\"#f0f921\"]]}],\"mesh3d\":[{\"type\":\"mesh3d\",\"colorbar\":{\"outlinewidth\":0,\"ticks\":\"\"}}],\"scatter\":[{\"fillpattern\":{\"fillmode\":\"overlay\",\"size\":10,\"solidity\":0.2},\"type\":\"scatter\"}],\"parcoords\":[{\"type\":\"parcoords\",\"line\":{\"colorbar\":{\"outlinewidth\":0,\"ticks\":\"\"}}}],\"scatterpolargl\":[{\"type\":\"scatterpolargl\",\"marker\":{\"colorbar\":{\"outlinewidth\":0,\"ticks\":\"\"}}}],\"bar\":[{\"error_x\":{\"color\":\"#2a3f5f\"},\"error_y\":{\"color\":\"#2a3f5f\"},\"marker\":{\"line\":{\"color\":\"#E5ECF6\",\"width\":0.5},\"pattern\":{\"fillmode\":\"overlay\",\"size\":10,\"solidity\":0.2}},\"type\":\"bar\"}],\"scattergeo\":[{\"type\":\"scattergeo\",\"marker\":{\"colorbar\":{\"outlinewidth\":0,\"ticks\":\"\"}}}],\"scatterpolar\":[{\"type\":\"scatterpolar\",\"marker\":{\"colorbar\":{\"outlinewidth\":0,\"ticks\":\"\"}}}],\"histogram\":[{\"marker\":{\"pattern\":{\"fillmode\":\"overlay\",\"size\":10,\"solidity\":0.2}},\"type\":\"histogram\"}],\"scattergl\":[{\"type\":\"scattergl\",\"marker\":{\"colorbar\":{\"outlinewidth\":0,\"ticks\":\"\"}}}],\"scatter3d\":[{\"type\":\"scatter3d\",\"line\":{\"colorbar\":{\"outlinewidth\":0,\"ticks\":\"\"}},\"marker\":{\"colorbar\":{\"outlinewidth\":0,\"ticks\":\"\"}}}],\"scattermapbox\":[{\"type\":\"scattermapbox\",\"marker\":{\"colorbar\":{\"outlinewidth\":0,\"ticks\":\"\"}}}],\"scatterternary\":[{\"type\":\"scatterternary\",\"marker\":{\"colorbar\":{\"outlinewidth\":0,\"ticks\":\"\"}}}],\"scattercarpet\":[{\"type\":\"scattercarpet\",\"marker\":{\"colorbar\":{\"outlinewidth\":0,\"ticks\":\"\"}}}],\"carpet\":[{\"aaxis\":{\"endlinecolor\":\"#2a3f5f\",\"gridcolor\":\"white\",\"linecolor\":\"white\",\"minorgridcolor\":\"white\",\"startlinecolor\":\"#2a3f5f\"},\"baxis\":{\"endlinecolor\":\"#2a3f5f\",\"gridcolor\":\"white\",\"linecolor\":\"white\",\"minorgridcolor\":\"white\",\"startlinecolor\":\"#2a3f5f\"},\"type\":\"carpet\"}],\"table\":[{\"cells\":{\"fill\":{\"color\":\"#EBF0F8\"},\"line\":{\"color\":\"white\"}},\"header\":{\"fill\":{\"color\":\"#C8D4E3\"},\"line\":{\"color\":\"white\"}},\"type\":\"table\"}],\"barpolar\":[{\"marker\":{\"line\":{\"color\":\"#E5ECF6\",\"width\":0.5},\"pattern\":{\"fillmode\":\"overlay\",\"size\":10,\"solidity\":0.2}},\"type\":\"barpolar\"}],\"pie\":[{\"automargin\":true,\"type\":\"pie\"}]},\"layout\":{\"autotypenumbers\":\"strict\",\"colorway\":[\"#636efa\",\"#EF553B\",\"#00cc96\",\"#ab63fa\",\"#FFA15A\",\"#19d3f3\",\"#FF6692\",\"#B6E880\",\"#FF97FF\",\"#FECB52\"],\"font\":{\"color\":\"#2a3f5f\"},\"hovermode\":\"closest\",\"hoverlabel\":{\"align\":\"left\"},\"paper_bgcolor\":\"white\",\"plot_bgcolor\":\"#E5ECF6\",\"polar\":{\"bgcolor\":\"#E5ECF6\",\"angularaxis\":{\"gridcolor\":\"white\",\"linecolor\":\"white\",\"ticks\":\"\"},\"radialaxis\":{\"gridcolor\":\"white\",\"linecolor\":\"white\",\"ticks\":\"\"}},\"ternary\":{\"bgcolor\":\"#E5ECF6\",\"aaxis\":{\"gridcolor\":\"white\",\"linecolor\":\"white\",\"ticks\":\"\"},\"baxis\":{\"gridcolor\":\"white\",\"linecolor\":\"white\",\"ticks\":\"\"},\"caxis\":{\"gridcolor\":\"white\",\"linecolor\":\"white\",\"ticks\":\"\"}},\"coloraxis\":{\"colorbar\":{\"outlinewidth\":0,\"ticks\":\"\"}},\"colorscale\":{\"sequential\":[[0.0,\"#0d0887\"],[0.1111111111111111,\"#46039f\"],[0.2222222222222222,\"#7201a8\"],[0.3333333333333333,\"#9c179e\"],[0.4444444444444444,\"#bd3786\"],[0.5555555555555556,\"#d8576b\"],[0.6666666666666666,\"#ed7953\"],[0.7777777777777778,\"#fb9f3a\"],[0.8888888888888888,\"#fdca26\"],[1.0,\"#f0f921\"]],\"sequentialminus\":[[0.0,\"#0d0887\"],[0.1111111111111111,\"#46039f\"],[0.2222222222222222,\"#7201a8\"],[0.3333333333333333,\"#9c179e\"],[0.4444444444444444,\"#bd3786\"],[0.5555555555555556,\"#d8576b\"],[0.6666666666666666,\"#ed7953\"],[0.7777777777777778,\"#fb9f3a\"],[0.8888888888888888,\"#fdca26\"],[1.0,\"#f0f921\"]],\"diverging\":[[0,\"#8e0152\"],[0.1,\"#c51b7d\"],[0.2,\"#de77ae\"],[0.3,\"#f1b6da\"],[0.4,\"#fde0ef\"],[0.5,\"#f7f7f7\"],[0.6,\"#e6f5d0\"],[0.7,\"#b8e186\"],[0.8,\"#7fbc41\"],[0.9,\"#4d9221\"],[1,\"#276419\"]]},\"xaxis\":{\"gridcolor\":\"white\",\"linecolor\":\"white\",\"ticks\":\"\",\"title\":{\"standoff\":15},\"zerolinecolor\":\"white\",\"automargin\":true,\"zerolinewidth\":2},\"yaxis\":{\"gridcolor\":\"white\",\"linecolor\":\"white\",\"ticks\":\"\",\"title\":{\"standoff\":15},\"zerolinecolor\":\"white\",\"automargin\":true,\"zerolinewidth\":2},\"scene\":{\"xaxis\":{\"backgroundcolor\":\"#E5ECF6\",\"gridcolor\":\"white\",\"linecolor\":\"white\",\"showbackground\":true,\"ticks\":\"\",\"zerolinecolor\":\"white\",\"gridwidth\":2},\"yaxis\":{\"backgroundcolor\":\"#E5ECF6\",\"gridcolor\":\"white\",\"linecolor\":\"white\",\"showbackground\":true,\"ticks\":\"\",\"zerolinecolor\":\"white\",\"gridwidth\":2},\"zaxis\":{\"backgroundcolor\":\"#E5ECF6\",\"gridcolor\":\"white\",\"linecolor\":\"white\",\"showbackground\":true,\"ticks\":\"\",\"zerolinecolor\":\"white\",\"gridwidth\":2}},\"shapedefaults\":{\"line\":{\"color\":\"#2a3f5f\"}},\"annotationdefaults\":{\"arrowcolor\":\"#2a3f5f\",\"arrowhead\":0,\"arrowwidth\":1},\"geo\":{\"bgcolor\":\"white\",\"landcolor\":\"#E5ECF6\",\"subunitcolor\":\"white\",\"showland\":true,\"showlakes\":true,\"lakecolor\":\"white\"},\"title\":{\"x\":0.05},\"mapbox\":{\"style\":\"light\"}}},\"xaxis\":{\"anchor\":\"y\",\"domain\":[0.0,1.0],\"title\":{\"text\":\"Date\"},\"tickmode\":\"array\",\"tickvals\":[\"23\\u002f10\\u002f03\",\"23\\u002f10\\u002f10\",\"23\\u002f10\\u002f15\",\"23\\u002f10\\u002f20\",\"23\\u002f10\\u002f26\",\"23\\u002f11\\u002f02\",\"23\\u002f11\\u002f09\",\"23\\u002f11\\u002f15\",\"23\\u002f11\\u002f22\",\"23\\u002f11\\u002f28\",\"23\\u002f12\\u002f07\",\"23\\u002f12\\u002f14\",\"23\\u002f12\\u002f21\",\"23\\u002f12\\u002f29\",\"24\\u002f01\\u002f09\",\"24\\u002f01\\u002f19\",\"24\\u002f01\\u002f26\",\"24\\u002f02\\u002f06\",\"24\\u002f02\\u002f15\",\"24\\u002f02\\u002f26\",\"24\\u002f03\\u002f05\",\"24\\u002f03\\u002f12\",\"24\\u002f03\\u002f19\",\"24\\u002f03\\u002f27\",\"24\\u002f04\\u002f05\",\"24\\u002f04\\u002f11\",\"24\\u002f04\\u002f19\",\"24\\u002f04\\u002f30\",\"24\\u002f05\\u002f08\",\"24\\u002f05\\u002f23\"],\"ticktext\":[\"23\\u002f10\\u002f03\",\"23\\u002f10\\u002f10\",\"23\\u002f10\\u002f15\",\"23\\u002f10\\u002f20\",\"23\\u002f10\\u002f26\",\"23\\u002f11\\u002f02\",\"23\\u002f11\\u002f09\",\"23\\u002f11\\u002f15\",\"23\\u002f11\\u002f22\",\"23\\u002f11\\u002f28\",\"23\\u002f12\\u002f07\",\"23\\u002f12\\u002f14\",\"23\\u002f12\\u002f21\",\"23\\u002f12\\u002f29\",\"24\\u002f01\\u002f09\",\"24\\u002f01\\u002f19\",\"24\\u002f01\\u002f26\",\"24\\u002f02\\u002f06\",\"24\\u002f02\\u002f15\",\"24\\u002f02\\u002f26\",\"24\\u002f03\\u002f05\",\"24\\u002f03\\u002f12\",\"24\\u002f03\\u002f19\",\"24\\u002f03\\u002f27\",\"24\\u002f04\\u002f05\",\"24\\u002f04\\u002f11\",\"24\\u002f04\\u002f19\",\"24\\u002f04\\u002f30\",\"24\\u002f05\\u002f08\",\"24\\u002f05\\u002f23\"]},\"yaxis\":{\"anchor\":\"x\",\"domain\":[0.0,1.0],\"title\":{\"text\":\"Number of Messages\"}},\"legend\":{\"tracegroupgap\":0},\"title\":{\"text\":\"Number of Messages per Day in Slack\"},\"barmode\":\"relative\"},                        {\"responsive\": true}                    ).then(function(){\n",
              "                            \n",
              "var gd = document.getElementById('dfb38ca4-3ef2-4515-bb36-3766d3e85694');\n",
              "var x = new MutationObserver(function (mutations, observer) {{\n",
              "        var display = window.getComputedStyle(gd).display;\n",
              "        if (!display || display === 'none') {{\n",
              "            console.log([gd, 'removed!']);\n",
              "            Plotly.purge(gd);\n",
              "            observer.disconnect();\n",
              "        }}\n",
              "}});\n",
              "\n",
              "// Listen for the removal of the full notebook cells\n",
              "var notebookContainer = gd.closest('#notebook-container');\n",
              "if (notebookContainer) {{\n",
              "    x.observe(notebookContainer, {childList: true});\n",
              "}}\n",
              "\n",
              "// Listen for the clearing of the current output cell\n",
              "var outputEl = gd.closest('.output');\n",
              "if (outputEl) {{\n",
              "    x.observe(outputEl, {childList: true});\n",
              "}}\n",
              "\n",
              "                        })                };                            </script>        </div>\n",
              "</body>\n",
              "</html>"
            ]
          },
          "metadata": {}
        }
      ]
    },
    {
      "cell_type": "markdown",
      "source": [
        "### 3-4. 최대 메시지 전달 일자 계산"
      ],
      "metadata": {
        "id": "kDxpsHDzCcBo"
      }
    },
    {
      "cell_type": "markdown",
      "source": [
        "## 4. 메시지 평균 응답 시간"
      ],
      "metadata": {
        "id": "PL6MFV0wIB8p"
      }
    },
    {
      "cell_type": "markdown",
      "source": [
        "###. [Temp] 코드"
      ],
      "metadata": {
        "id": "FGfPh0lp7sbi"
      }
    },
    {
      "cell_type": "code",
      "source": [
        "# 1. 데이터 가져오기\n",
        "import os\n",
        "import json\n",
        "import matplotlib.pyplot as plt\n",
        "\n",
        "# Directory containing JSON files\n",
        "directory = '/content/drive/My Drive/data/slack/UP_AI_1기_Slack/4_행정문의방'\n",
        "\n",
        "# Initialize an empty list to hold all messages\n",
        "all_messages = []\n",
        "\n",
        "# Loop through each file in the directory\n",
        "for filename in os.listdir(directory):\n",
        "    if filename.endswith('.json'):\n",
        "        file_path = os.path.join(directory, filename)\n",
        "        with open(file_path, 'r') as file:\n",
        "            data = json.load(file)\n",
        "            all_messages.extend(data)  # Assuming each file contains a list of messages\n",
        "\n",
        "print(f\"Total messages loaded: {len(all_messages)}\")\n",
        "\n",
        "# 2. 결측치 데이터 확인 및 제거\n",
        "import pandas as pd\n",
        "\n",
        "# Create a DataFrame from the messages\n",
        "df = pd.DataFrame(all_messages)\n",
        "\n",
        "# Check for missing 'ts' values\n",
        "missing_ts_df = df[df['ts'].isnull()]\n",
        "\n",
        "# Print DataFrame with missing 'ts' values\n",
        "print(\"Messages with missing 'ts' values:\")\n",
        "print(missing_ts_df)\n",
        "\n",
        "# 결측치 데이터 제거\n",
        "# Filter out rows with missing 'ts'\n",
        "df = df.dropna(subset=['ts'])\n",
        "\n",
        "# dataTime 형식 변환\n",
        "from datetime import datetime\n",
        "\n",
        "# Convert timestamp to datetime and extract date\n",
        "# df['date'] = df['ts'].apply(lambda x: datetime.fromtimestamp(float(x)).strftime('%Y-%m-%d'))\n",
        "df['date'] = df['ts'].apply(lambda x: datetime.fromtimestamp(float(x)).strftime('%y/%m/%d'))"
      ],
      "metadata": {
        "colab": {
          "base_uri": "https://localhost:8080/"
        },
        "id": "6JRckNHk7xAi",
        "outputId": "dc804fee-83ef-43bf-e77b-0784b2be9f24"
      },
      "execution_count": null,
      "outputs": [
        {
          "output_type": "stream",
          "name": "stdout",
          "text": [
            "Total messages loaded: 1098\n",
            "Messages with missing 'ts' values:\n",
            "     subtype       user text type   ts client_msg_id team user_team  \\\n",
            "1080     NaN  USLACKBOT  NaN  NaN  NaN           NaN  NaN       NaN   \n",
            "\n",
            "     source_team user_profile  ... pretty_type  editable  size  mode  \\\n",
            "1080         NaN          NaN  ...      Canvas      True   0.0  quip   \n",
            "\n",
            "     is_public is_tombstoned public_url_shared date_delete  \\\n",
            "1080      True         False             False         0.0   \n",
            "\n",
            "                                   url_private_download  \\\n",
            "1080  https://files.slack.com/files-pri/T05UGFFGL07-...   \n",
            "\n",
            "                                                 shares  \n",
            "1080  [{'team': 'T05UGFFGL07', 'channel': 'C05V0H8H3...  \n",
            "\n",
            "[1 rows x 45 columns]\n"
          ]
        }
      ]
    },
    {
      "cell_type": "markdown",
      "source": [
        "### 4-1. 평균 응답 시간 계산 / Version 1: 최초 응답 > 첫 스레드"
      ],
      "metadata": {
        "id": "XcaoXowBIc9Q"
      }
    },
    {
      "cell_type": "code",
      "source": [
        "# Convert timestamp fields to datetime\n",
        "df['ts'] = pd.to_datetime(df['ts'].astype(float), unit='s')\n",
        "df['thread_ts'] = pd.to_datetime(df['thread_ts'].astype(float), unit='s', errors='coerce')\n",
        "\n",
        "# Temp print\n",
        "print(df[['ts', 'thread_ts']])\n",
        "\n",
        "\n",
        "# Filter messages that are replies in a thread\n",
        "replies_df = df.dropna(subset=['thread_ts'])\n",
        "\n",
        "# Find the first reply in each thread\n",
        "first_replies = replies_df.sort_values(by='ts').groupby('thread_ts').first().reset_index()\n",
        "\n",
        "# Join first replies with their original messages\n",
        "merged_df = pd.merge(first_replies, df, left_on='thread_ts', right_on='ts', suffixes=('_reply', '_original'))\n",
        "\n",
        "# Calculate response time in minutes\n",
        "merged_df['response_time'] = (merged_df['ts_reply'] - merged_df['ts_original']).dt.total_seconds() / 60.0  # in minutes\n",
        "\n",
        "# Calculate average response time\n",
        "# average_response_time = merged_df['response_time'].mean()\n",
        "\n",
        "# print(f\"Average response time: {average_response_time} minutes\")\n",
        "\n",
        "# Display the dataframe with response times\n",
        "# print(merged_df[['thread_ts', 'response_time']])\n",
        "print(merged_df[['response_time']])"
      ],
      "metadata": {
        "colab": {
          "base_uri": "https://localhost:8080/",
          "height": 377
        },
        "id": "A6HTpHHsAr49",
        "outputId": "4076467c-d4ab-4e6c-d068-259c9f61f9eb"
      },
      "execution_count": null,
      "outputs": [
        {
          "output_type": "error",
          "ename": "TypeError",
          "evalue": "Cannot cast DatetimeArray to dtype float64",
          "traceback": [
            "\u001b[0;31m---------------------------------------------------------------------------\u001b[0m",
            "\u001b[0;31mTypeError\u001b[0m                                 Traceback (most recent call last)",
            "\u001b[0;32m<ipython-input-53-96e4c5a13a30>\u001b[0m in \u001b[0;36m<cell line: 2>\u001b[0;34m()\u001b[0m\n\u001b[1;32m      1\u001b[0m \u001b[0;31m# Convert timestamp fields to datetime\u001b[0m\u001b[0;34m\u001b[0m\u001b[0;34m\u001b[0m\u001b[0m\n\u001b[0;32m----> 2\u001b[0;31m \u001b[0mdf\u001b[0m\u001b[0;34m[\u001b[0m\u001b[0;34m'ts'\u001b[0m\u001b[0;34m]\u001b[0m \u001b[0;34m=\u001b[0m \u001b[0mpd\u001b[0m\u001b[0;34m.\u001b[0m\u001b[0mto_datetime\u001b[0m\u001b[0;34m(\u001b[0m\u001b[0mdf\u001b[0m\u001b[0;34m[\u001b[0m\u001b[0;34m'ts'\u001b[0m\u001b[0;34m]\u001b[0m\u001b[0;34m.\u001b[0m\u001b[0mastype\u001b[0m\u001b[0;34m(\u001b[0m\u001b[0mfloat\u001b[0m\u001b[0;34m)\u001b[0m\u001b[0;34m,\u001b[0m \u001b[0munit\u001b[0m\u001b[0;34m=\u001b[0m\u001b[0;34m's'\u001b[0m\u001b[0;34m)\u001b[0m\u001b[0;34m\u001b[0m\u001b[0;34m\u001b[0m\u001b[0m\n\u001b[0m\u001b[1;32m      3\u001b[0m \u001b[0mdf\u001b[0m\u001b[0;34m[\u001b[0m\u001b[0;34m'thread_ts'\u001b[0m\u001b[0;34m]\u001b[0m \u001b[0;34m=\u001b[0m \u001b[0mpd\u001b[0m\u001b[0;34m.\u001b[0m\u001b[0mto_datetime\u001b[0m\u001b[0;34m(\u001b[0m\u001b[0mdf\u001b[0m\u001b[0;34m[\u001b[0m\u001b[0;34m'thread_ts'\u001b[0m\u001b[0;34m]\u001b[0m\u001b[0;34m.\u001b[0m\u001b[0mastype\u001b[0m\u001b[0;34m(\u001b[0m\u001b[0mfloat\u001b[0m\u001b[0;34m)\u001b[0m\u001b[0;34m,\u001b[0m \u001b[0munit\u001b[0m\u001b[0;34m=\u001b[0m\u001b[0;34m's'\u001b[0m\u001b[0;34m,\u001b[0m \u001b[0merrors\u001b[0m\u001b[0;34m=\u001b[0m\u001b[0;34m'coerce'\u001b[0m\u001b[0;34m)\u001b[0m\u001b[0;34m\u001b[0m\u001b[0;34m\u001b[0m\u001b[0m\n\u001b[1;32m      4\u001b[0m \u001b[0;34m\u001b[0m\u001b[0m\n\u001b[1;32m      5\u001b[0m \u001b[0;31m# Temp print\u001b[0m\u001b[0;34m\u001b[0m\u001b[0;34m\u001b[0m\u001b[0m\n",
            "\u001b[0;32m/usr/local/lib/python3.10/dist-packages/pandas/core/generic.py\u001b[0m in \u001b[0;36mastype\u001b[0;34m(self, dtype, copy, errors)\u001b[0m\n\u001b[1;32m   6322\u001b[0m         \u001b[0;32melse\u001b[0m\u001b[0;34m:\u001b[0m\u001b[0;34m\u001b[0m\u001b[0;34m\u001b[0m\u001b[0m\n\u001b[1;32m   6323\u001b[0m             \u001b[0;31m# else, only a single dtype is given\u001b[0m\u001b[0;34m\u001b[0m\u001b[0;34m\u001b[0m\u001b[0m\n\u001b[0;32m-> 6324\u001b[0;31m             \u001b[0mnew_data\u001b[0m \u001b[0;34m=\u001b[0m \u001b[0mself\u001b[0m\u001b[0;34m.\u001b[0m\u001b[0m_mgr\u001b[0m\u001b[0;34m.\u001b[0m\u001b[0mastype\u001b[0m\u001b[0;34m(\u001b[0m\u001b[0mdtype\u001b[0m\u001b[0;34m=\u001b[0m\u001b[0mdtype\u001b[0m\u001b[0;34m,\u001b[0m \u001b[0mcopy\u001b[0m\u001b[0;34m=\u001b[0m\u001b[0mcopy\u001b[0m\u001b[0;34m,\u001b[0m \u001b[0merrors\u001b[0m\u001b[0;34m=\u001b[0m\u001b[0merrors\u001b[0m\u001b[0;34m)\u001b[0m\u001b[0;34m\u001b[0m\u001b[0;34m\u001b[0m\u001b[0m\n\u001b[0m\u001b[1;32m   6325\u001b[0m             \u001b[0;32mreturn\u001b[0m \u001b[0mself\u001b[0m\u001b[0;34m.\u001b[0m\u001b[0m_constructor\u001b[0m\u001b[0;34m(\u001b[0m\u001b[0mnew_data\u001b[0m\u001b[0;34m)\u001b[0m\u001b[0;34m.\u001b[0m\u001b[0m__finalize__\u001b[0m\u001b[0;34m(\u001b[0m\u001b[0mself\u001b[0m\u001b[0;34m,\u001b[0m \u001b[0mmethod\u001b[0m\u001b[0;34m=\u001b[0m\u001b[0;34m\"astype\"\u001b[0m\u001b[0;34m)\u001b[0m\u001b[0;34m\u001b[0m\u001b[0;34m\u001b[0m\u001b[0m\n\u001b[1;32m   6326\u001b[0m \u001b[0;34m\u001b[0m\u001b[0m\n",
            "\u001b[0;32m/usr/local/lib/python3.10/dist-packages/pandas/core/internals/managers.py\u001b[0m in \u001b[0;36mastype\u001b[0;34m(self, dtype, copy, errors)\u001b[0m\n\u001b[1;32m    449\u001b[0m             \u001b[0mcopy\u001b[0m \u001b[0;34m=\u001b[0m \u001b[0;32mFalse\u001b[0m\u001b[0;34m\u001b[0m\u001b[0;34m\u001b[0m\u001b[0m\n\u001b[1;32m    450\u001b[0m \u001b[0;34m\u001b[0m\u001b[0m\n\u001b[0;32m--> 451\u001b[0;31m         return self.apply(\n\u001b[0m\u001b[1;32m    452\u001b[0m             \u001b[0;34m\"astype\"\u001b[0m\u001b[0;34m,\u001b[0m\u001b[0;34m\u001b[0m\u001b[0;34m\u001b[0m\u001b[0m\n\u001b[1;32m    453\u001b[0m             \u001b[0mdtype\u001b[0m\u001b[0;34m=\u001b[0m\u001b[0mdtype\u001b[0m\u001b[0;34m,\u001b[0m\u001b[0;34m\u001b[0m\u001b[0;34m\u001b[0m\u001b[0m\n",
            "\u001b[0;32m/usr/local/lib/python3.10/dist-packages/pandas/core/internals/managers.py\u001b[0m in \u001b[0;36mapply\u001b[0;34m(self, f, align_keys, **kwargs)\u001b[0m\n\u001b[1;32m    350\u001b[0m                 \u001b[0mapplied\u001b[0m \u001b[0;34m=\u001b[0m \u001b[0mb\u001b[0m\u001b[0;34m.\u001b[0m\u001b[0mapply\u001b[0m\u001b[0;34m(\u001b[0m\u001b[0mf\u001b[0m\u001b[0;34m,\u001b[0m \u001b[0;34m**\u001b[0m\u001b[0mkwargs\u001b[0m\u001b[0;34m)\u001b[0m\u001b[0;34m\u001b[0m\u001b[0;34m\u001b[0m\u001b[0m\n\u001b[1;32m    351\u001b[0m             \u001b[0;32melse\u001b[0m\u001b[0;34m:\u001b[0m\u001b[0;34m\u001b[0m\u001b[0;34m\u001b[0m\u001b[0m\n\u001b[0;32m--> 352\u001b[0;31m                 \u001b[0mapplied\u001b[0m \u001b[0;34m=\u001b[0m \u001b[0mgetattr\u001b[0m\u001b[0;34m(\u001b[0m\u001b[0mb\u001b[0m\u001b[0;34m,\u001b[0m \u001b[0mf\u001b[0m\u001b[0;34m)\u001b[0m\u001b[0;34m(\u001b[0m\u001b[0;34m**\u001b[0m\u001b[0mkwargs\u001b[0m\u001b[0;34m)\u001b[0m\u001b[0;34m\u001b[0m\u001b[0;34m\u001b[0m\u001b[0m\n\u001b[0m\u001b[1;32m    353\u001b[0m             \u001b[0mresult_blocks\u001b[0m \u001b[0;34m=\u001b[0m \u001b[0mextend_blocks\u001b[0m\u001b[0;34m(\u001b[0m\u001b[0mapplied\u001b[0m\u001b[0;34m,\u001b[0m \u001b[0mresult_blocks\u001b[0m\u001b[0;34m)\u001b[0m\u001b[0;34m\u001b[0m\u001b[0;34m\u001b[0m\u001b[0m\n\u001b[1;32m    354\u001b[0m \u001b[0;34m\u001b[0m\u001b[0m\n",
            "\u001b[0;32m/usr/local/lib/python3.10/dist-packages/pandas/core/internals/blocks.py\u001b[0m in \u001b[0;36mastype\u001b[0;34m(self, dtype, copy, errors, using_cow)\u001b[0m\n\u001b[1;32m    509\u001b[0m         \u001b[0mvalues\u001b[0m \u001b[0;34m=\u001b[0m \u001b[0mself\u001b[0m\u001b[0;34m.\u001b[0m\u001b[0mvalues\u001b[0m\u001b[0;34m\u001b[0m\u001b[0;34m\u001b[0m\u001b[0m\n\u001b[1;32m    510\u001b[0m \u001b[0;34m\u001b[0m\u001b[0m\n\u001b[0;32m--> 511\u001b[0;31m         \u001b[0mnew_values\u001b[0m \u001b[0;34m=\u001b[0m \u001b[0mastype_array_safe\u001b[0m\u001b[0;34m(\u001b[0m\u001b[0mvalues\u001b[0m\u001b[0;34m,\u001b[0m \u001b[0mdtype\u001b[0m\u001b[0;34m,\u001b[0m \u001b[0mcopy\u001b[0m\u001b[0;34m=\u001b[0m\u001b[0mcopy\u001b[0m\u001b[0;34m,\u001b[0m \u001b[0merrors\u001b[0m\u001b[0;34m=\u001b[0m\u001b[0merrors\u001b[0m\u001b[0;34m)\u001b[0m\u001b[0;34m\u001b[0m\u001b[0;34m\u001b[0m\u001b[0m\n\u001b[0m\u001b[1;32m    512\u001b[0m \u001b[0;34m\u001b[0m\u001b[0m\n\u001b[1;32m    513\u001b[0m         \u001b[0mnew_values\u001b[0m \u001b[0;34m=\u001b[0m \u001b[0mmaybe_coerce_values\u001b[0m\u001b[0;34m(\u001b[0m\u001b[0mnew_values\u001b[0m\u001b[0;34m)\u001b[0m\u001b[0;34m\u001b[0m\u001b[0;34m\u001b[0m\u001b[0m\n",
            "\u001b[0;32m/usr/local/lib/python3.10/dist-packages/pandas/core/dtypes/astype.py\u001b[0m in \u001b[0;36mastype_array_safe\u001b[0;34m(values, dtype, copy, errors)\u001b[0m\n\u001b[1;32m    240\u001b[0m \u001b[0;34m\u001b[0m\u001b[0m\n\u001b[1;32m    241\u001b[0m     \u001b[0;32mtry\u001b[0m\u001b[0;34m:\u001b[0m\u001b[0;34m\u001b[0m\u001b[0;34m\u001b[0m\u001b[0m\n\u001b[0;32m--> 242\u001b[0;31m         \u001b[0mnew_values\u001b[0m \u001b[0;34m=\u001b[0m \u001b[0mastype_array\u001b[0m\u001b[0;34m(\u001b[0m\u001b[0mvalues\u001b[0m\u001b[0;34m,\u001b[0m \u001b[0mdtype\u001b[0m\u001b[0;34m,\u001b[0m \u001b[0mcopy\u001b[0m\u001b[0;34m=\u001b[0m\u001b[0mcopy\u001b[0m\u001b[0;34m)\u001b[0m\u001b[0;34m\u001b[0m\u001b[0;34m\u001b[0m\u001b[0m\n\u001b[0m\u001b[1;32m    243\u001b[0m     \u001b[0;32mexcept\u001b[0m \u001b[0;34m(\u001b[0m\u001b[0mValueError\u001b[0m\u001b[0;34m,\u001b[0m \u001b[0mTypeError\u001b[0m\u001b[0;34m)\u001b[0m\u001b[0;34m:\u001b[0m\u001b[0;34m\u001b[0m\u001b[0;34m\u001b[0m\u001b[0m\n\u001b[1;32m    244\u001b[0m         \u001b[0;31m# e.g. _astype_nansafe can fail on object-dtype of strings\u001b[0m\u001b[0;34m\u001b[0m\u001b[0;34m\u001b[0m\u001b[0m\n",
            "\u001b[0;32m/usr/local/lib/python3.10/dist-packages/pandas/core/dtypes/astype.py\u001b[0m in \u001b[0;36mastype_array\u001b[0;34m(values, dtype, copy)\u001b[0m\n\u001b[1;32m    182\u001b[0m     \u001b[0;32mif\u001b[0m \u001b[0;32mnot\u001b[0m \u001b[0misinstance\u001b[0m\u001b[0;34m(\u001b[0m\u001b[0mvalues\u001b[0m\u001b[0;34m,\u001b[0m \u001b[0mnp\u001b[0m\u001b[0;34m.\u001b[0m\u001b[0mndarray\u001b[0m\u001b[0;34m)\u001b[0m\u001b[0;34m:\u001b[0m\u001b[0;34m\u001b[0m\u001b[0;34m\u001b[0m\u001b[0m\n\u001b[1;32m    183\u001b[0m         \u001b[0;31m# i.e. ExtensionArray\u001b[0m\u001b[0;34m\u001b[0m\u001b[0;34m\u001b[0m\u001b[0m\n\u001b[0;32m--> 184\u001b[0;31m         \u001b[0mvalues\u001b[0m \u001b[0;34m=\u001b[0m \u001b[0mvalues\u001b[0m\u001b[0;34m.\u001b[0m\u001b[0mastype\u001b[0m\u001b[0;34m(\u001b[0m\u001b[0mdtype\u001b[0m\u001b[0;34m,\u001b[0m \u001b[0mcopy\u001b[0m\u001b[0;34m=\u001b[0m\u001b[0mcopy\u001b[0m\u001b[0;34m)\u001b[0m\u001b[0;34m\u001b[0m\u001b[0;34m\u001b[0m\u001b[0m\n\u001b[0m\u001b[1;32m    185\u001b[0m \u001b[0;34m\u001b[0m\u001b[0m\n\u001b[1;32m    186\u001b[0m     \u001b[0;32melse\u001b[0m\u001b[0;34m:\u001b[0m\u001b[0;34m\u001b[0m\u001b[0;34m\u001b[0m\u001b[0m\n",
            "\u001b[0;32m/usr/local/lib/python3.10/dist-packages/pandas/core/arrays/datetimes.py\u001b[0m in \u001b[0;36mastype\u001b[0;34m(self, dtype, copy)\u001b[0m\n\u001b[1;32m    699\u001b[0m         \u001b[0;32melif\u001b[0m \u001b[0mis_period_dtype\u001b[0m\u001b[0;34m(\u001b[0m\u001b[0mdtype\u001b[0m\u001b[0;34m)\u001b[0m\u001b[0;34m:\u001b[0m\u001b[0;34m\u001b[0m\u001b[0;34m\u001b[0m\u001b[0m\n\u001b[1;32m    700\u001b[0m             \u001b[0;32mreturn\u001b[0m \u001b[0mself\u001b[0m\u001b[0;34m.\u001b[0m\u001b[0mto_period\u001b[0m\u001b[0;34m(\u001b[0m\u001b[0mfreq\u001b[0m\u001b[0;34m=\u001b[0m\u001b[0mdtype\u001b[0m\u001b[0;34m.\u001b[0m\u001b[0mfreq\u001b[0m\u001b[0;34m)\u001b[0m\u001b[0;34m\u001b[0m\u001b[0;34m\u001b[0m\u001b[0m\n\u001b[0;32m--> 701\u001b[0;31m         \u001b[0;32mreturn\u001b[0m \u001b[0mdtl\u001b[0m\u001b[0;34m.\u001b[0m\u001b[0mDatetimeLikeArrayMixin\u001b[0m\u001b[0;34m.\u001b[0m\u001b[0mastype\u001b[0m\u001b[0;34m(\u001b[0m\u001b[0mself\u001b[0m\u001b[0;34m,\u001b[0m \u001b[0mdtype\u001b[0m\u001b[0;34m,\u001b[0m \u001b[0mcopy\u001b[0m\u001b[0;34m)\u001b[0m\u001b[0;34m\u001b[0m\u001b[0;34m\u001b[0m\u001b[0m\n\u001b[0m\u001b[1;32m    702\u001b[0m \u001b[0;34m\u001b[0m\u001b[0m\n\u001b[1;32m    703\u001b[0m     \u001b[0;31m# -----------------------------------------------------------------\u001b[0m\u001b[0;34m\u001b[0m\u001b[0;34m\u001b[0m\u001b[0m\n",
            "\u001b[0;32m/usr/local/lib/python3.10/dist-packages/pandas/core/arrays/datetimelike.py\u001b[0m in \u001b[0;36mastype\u001b[0;34m(self, dtype, copy)\u001b[0m\n\u001b[1;32m    485\u001b[0m             \u001b[0;31m# and conversions for any datetimelike to float\u001b[0m\u001b[0;34m\u001b[0m\u001b[0;34m\u001b[0m\u001b[0m\n\u001b[1;32m    486\u001b[0m             \u001b[0mmsg\u001b[0m \u001b[0;34m=\u001b[0m \u001b[0;34mf\"Cannot cast {type(self).__name__} to dtype {dtype}\"\u001b[0m\u001b[0;34m\u001b[0m\u001b[0;34m\u001b[0m\u001b[0m\n\u001b[0;32m--> 487\u001b[0;31m             \u001b[0;32mraise\u001b[0m \u001b[0mTypeError\u001b[0m\u001b[0;34m(\u001b[0m\u001b[0mmsg\u001b[0m\u001b[0;34m)\u001b[0m\u001b[0;34m\u001b[0m\u001b[0;34m\u001b[0m\u001b[0m\n\u001b[0m\u001b[1;32m    488\u001b[0m         \u001b[0;32melse\u001b[0m\u001b[0;34m:\u001b[0m\u001b[0;34m\u001b[0m\u001b[0;34m\u001b[0m\u001b[0m\n\u001b[1;32m    489\u001b[0m             \u001b[0;32mreturn\u001b[0m \u001b[0mnp\u001b[0m\u001b[0;34m.\u001b[0m\u001b[0masarray\u001b[0m\u001b[0;34m(\u001b[0m\u001b[0mself\u001b[0m\u001b[0;34m,\u001b[0m \u001b[0mdtype\u001b[0m\u001b[0;34m=\u001b[0m\u001b[0mdtype\u001b[0m\u001b[0;34m)\u001b[0m\u001b[0;34m\u001b[0m\u001b[0;34m\u001b[0m\u001b[0m\n",
            "\u001b[0;31mTypeError\u001b[0m: Cannot cast DatetimeArray to dtype float64"
          ]
        }
      ]
    },
    {
      "cell_type": "markdown",
      "source": [
        "### 4-1. 평균 응답 시간 / Version 2: 두번째 응답시간 > 첫번째 댓글"
      ],
      "metadata": {
        "id": "1pnr-k5NA8_P"
      }
    },
    {
      "cell_type": "code",
      "source": [
        "# Convert timestamp fields to datetime\n",
        "df['ts'] = pd.to_datetime(df['ts'].astype(float), unit='s')\n",
        "df['thread_ts'] = pd.to_datetime(df['thread_ts'].astype(float), unit='s', errors='coerce')\n",
        "\n",
        "# print temp_data\n",
        "print(df[['ts', 'thread_ts']])\n",
        "\n",
        "# Filter messages that are replies in a thread\n",
        "replies_df = df.dropna(subset=['thread_ts'])\n",
        "\n",
        "# # Find the first reply in each thread\n",
        "# first_replies = replies_df.sort_values(by='ts').groupby('thread_ts').first().reset_index()\n",
        "\n",
        "# Sort replies by thread_ts and ts to get the second reply in each thread\n",
        "sorted_replies = replies_df.sort_values(by=['thread_ts', 'ts'])\n",
        "second_replies = sorted_replies.groupby('thread_ts').nth(1).reset_index()\n",
        "\n",
        "# Join first replies with their original messages\n",
        "merged_df = pd.merge(second_replies, df, left_on='thread_ts', right_on='ts', suffixes=('_reply', '_original'))\n",
        "\n",
        "# Calculate response time in minutes\n",
        "merged_df['response_minute'] = (merged_df['ts_reply'] - merged_df['ts_original']).dt.total_seconds() / 60.0  # in minutes\n",
        "merged_df['response_hour'] = merged_df['response_minute'] / 60.0  # in hour\n",
        "merged_df['response_day'] = merged_df['response_hour'] / 24.0  # in day\n",
        "\n",
        "# Calculate average response time\n",
        "# average_response_time = merged_df['response_time'].mean()\n",
        "\n",
        "# print(f\"Average response time: {average_response_time} minutes\")\n",
        "\n",
        "# Display the dataframe with response times\n",
        "# print(merged_df[['thread_ts', 'response_time']])\n",
        "# print(merged_df[['response_time']])\n",
        "print(merged_df[['ts_original', 'ts_reply', 'response_minute', 'response_hour', 'response_day']])"
      ],
      "metadata": {
        "colab": {
          "base_uri": "https://localhost:8080/"
        },
        "id": "nGJJUP7MBCki",
        "outputId": "2231a55b-1ccd-4cc6-f643-ea3a844c97fd"
      },
      "execution_count": null,
      "outputs": [
        {
          "output_type": "stream",
          "name": "stdout",
          "text": [
            "                                ts                     thread_ts\n",
            "0    2023-10-03 14:25:14.884548864                           NaT\n",
            "1    2023-10-04 01:11:35.015479040                           NaT\n",
            "2    2023-10-04 08:12:30.698458880                           NaT\n",
            "3    2023-10-04 08:15:38.334979072                           NaT\n",
            "4    2023-10-04 08:19:56.751668992                           NaT\n",
            "...                            ...                           ...\n",
            "1093 2024-05-17 00:49:17.076199168 2024-05-17 00:49:17.076199168\n",
            "1094 2024-05-17 00:50:42.580158976 2024-05-17 00:49:17.076199168\n",
            "1095 2024-05-17 00:58:33.568289024 2024-05-17 00:49:17.076199168\n",
            "1096 2024-05-17 01:05:57.862638848 2024-05-14 01:09:00.866458880\n",
            "1097 2024-05-17 06:49:09.577239040 2024-05-16 08:13:05.535619072\n",
            "\n",
            "[1097 rows x 2 columns]\n",
            "                      ts_original                      ts_reply  \\\n",
            "0   2023-10-05 02:49:59.945089024 2023-10-05 02:58:14.214819072   \n",
            "1   2023-10-05 02:52:19.829569024 2023-10-05 02:56:05.931649024   \n",
            "2   2023-10-05 02:52:44.353928960 2023-10-05 02:58:28.529638912   \n",
            "3   2023-10-05 03:00:21.927038976 2023-10-05 04:58:27.303569152   \n",
            "4   2023-10-05 03:07:44.278059008 2023-10-05 04:40:43.591289088   \n",
            "..                            ...                           ...   \n",
            "226 2024-05-14 06:51:14.083489024 2024-05-16 01:56:34.740269056   \n",
            "227 2024-05-16 00:50:07.859378944 2024-05-16 01:57:05.644509184   \n",
            "228 2024-05-16 08:13:05.535619072 2024-05-17 06:49:09.577239040   \n",
            "229 2024-05-16 23:46:14.808929024 2024-05-16 23:47:25.073428992   \n",
            "230 2024-05-17 00:49:17.076199168 2024-05-17 00:50:42.580158976   \n",
            "\n",
            "     response_minute  response_hour  response_day  \n",
            "0           8.237829       0.137297      0.005721  \n",
            "1           3.768368       0.062806      0.002617  \n",
            "2           5.736262       0.095604      0.003984  \n",
            "3         118.089609       1.968160      0.082007  \n",
            "4          92.988554       1.549809      0.064575  \n",
            "..               ...            ...           ...  \n",
            "226      2585.344280      43.089071      1.795378  \n",
            "227        66.963086       1.116051      0.046502  \n",
            "228      1356.067360      22.601123      0.941713  \n",
            "229         1.171075       0.019518      0.000813  \n",
            "230         1.425066       0.023751      0.000990  \n",
            "\n",
            "[231 rows x 5 columns]\n"
          ]
        }
      ]
    },
    {
      "cell_type": "markdown",
      "source": [
        "### 4-2. 응답 시간 시각화"
      ],
      "metadata": {
        "id": "GStZCS_MIy6S"
      }
    },
    {
      "cell_type": "code",
      "source": [
        "# Plot the data\n",
        "plt.figure(figsize=(14, 7))\n",
        "plt.plot(merged_df['thread_ts'], merged_df['response_time'], marker='o', linestyle='-', label='Response Time')\n",
        "\n",
        "plt.xlabel('Thread Timestamp')\n",
        "plt.ylabel('Response Time (minutes)')\n",
        "plt.title('First Response Time per Thread')\n",
        "plt.xticks(rotation=45)\n",
        "plt.grid(True)\n",
        "plt.tight_layout()\n",
        "plt.show()"
      ],
      "metadata": {
        "colab": {
          "base_uri": "https://localhost:8080/",
          "height": 526
        },
        "id": "hsNwoW22Jmmp",
        "outputId": "a8425070-f514-452e-ab89-ae6d1612d5ff"
      },
      "execution_count": null,
      "outputs": [
        {
          "output_type": "error",
          "ename": "KeyError",
          "evalue": "'thread_ts'",
          "traceback": [
            "\u001b[0;31m---------------------------------------------------------------------------\u001b[0m",
            "\u001b[0;31mKeyError\u001b[0m                                  Traceback (most recent call last)",
            "\u001b[0;32m/usr/local/lib/python3.10/dist-packages/pandas/core/indexes/base.py\u001b[0m in \u001b[0;36mget_loc\u001b[0;34m(self, key)\u001b[0m\n\u001b[1;32m   3652\u001b[0m         \u001b[0;32mtry\u001b[0m\u001b[0;34m:\u001b[0m\u001b[0;34m\u001b[0m\u001b[0;34m\u001b[0m\u001b[0m\n\u001b[0;32m-> 3653\u001b[0;31m             \u001b[0;32mreturn\u001b[0m \u001b[0mself\u001b[0m\u001b[0;34m.\u001b[0m\u001b[0m_engine\u001b[0m\u001b[0;34m.\u001b[0m\u001b[0mget_loc\u001b[0m\u001b[0;34m(\u001b[0m\u001b[0mcasted_key\u001b[0m\u001b[0;34m)\u001b[0m\u001b[0;34m\u001b[0m\u001b[0;34m\u001b[0m\u001b[0m\n\u001b[0m\u001b[1;32m   3654\u001b[0m         \u001b[0;32mexcept\u001b[0m \u001b[0mKeyError\u001b[0m \u001b[0;32mas\u001b[0m \u001b[0merr\u001b[0m\u001b[0;34m:\u001b[0m\u001b[0;34m\u001b[0m\u001b[0;34m\u001b[0m\u001b[0m\n",
            "\u001b[0;32m/usr/local/lib/python3.10/dist-packages/pandas/_libs/index.pyx\u001b[0m in \u001b[0;36mpandas._libs.index.IndexEngine.get_loc\u001b[0;34m()\u001b[0m\n",
            "\u001b[0;32m/usr/local/lib/python3.10/dist-packages/pandas/_libs/index.pyx\u001b[0m in \u001b[0;36mpandas._libs.index.IndexEngine.get_loc\u001b[0;34m()\u001b[0m\n",
            "\u001b[0;32mpandas/_libs/hashtable_class_helper.pxi\u001b[0m in \u001b[0;36mpandas._libs.hashtable.PyObjectHashTable.get_item\u001b[0;34m()\u001b[0m\n",
            "\u001b[0;32mpandas/_libs/hashtable_class_helper.pxi\u001b[0m in \u001b[0;36mpandas._libs.hashtable.PyObjectHashTable.get_item\u001b[0;34m()\u001b[0m\n",
            "\u001b[0;31mKeyError\u001b[0m: 'thread_ts'",
            "\nThe above exception was the direct cause of the following exception:\n",
            "\u001b[0;31mKeyError\u001b[0m                                  Traceback (most recent call last)",
            "\u001b[0;32m<ipython-input-17-0c2da0b0d14f>\u001b[0m in \u001b[0;36m<cell line: 3>\u001b[0;34m()\u001b[0m\n\u001b[1;32m      1\u001b[0m \u001b[0;31m# Plot the data\u001b[0m\u001b[0;34m\u001b[0m\u001b[0;34m\u001b[0m\u001b[0m\n\u001b[1;32m      2\u001b[0m \u001b[0mplt\u001b[0m\u001b[0;34m.\u001b[0m\u001b[0mfigure\u001b[0m\u001b[0;34m(\u001b[0m\u001b[0mfigsize\u001b[0m\u001b[0;34m=\u001b[0m\u001b[0;34m(\u001b[0m\u001b[0;36m14\u001b[0m\u001b[0;34m,\u001b[0m \u001b[0;36m7\u001b[0m\u001b[0;34m)\u001b[0m\u001b[0;34m)\u001b[0m\u001b[0;34m\u001b[0m\u001b[0;34m\u001b[0m\u001b[0m\n\u001b[0;32m----> 3\u001b[0;31m \u001b[0mplt\u001b[0m\u001b[0;34m.\u001b[0m\u001b[0mplot\u001b[0m\u001b[0;34m(\u001b[0m\u001b[0mmerged_df\u001b[0m\u001b[0;34m[\u001b[0m\u001b[0;34m'thread_ts'\u001b[0m\u001b[0;34m]\u001b[0m\u001b[0;34m,\u001b[0m \u001b[0mmerged_df\u001b[0m\u001b[0;34m[\u001b[0m\u001b[0;34m'response_time'\u001b[0m\u001b[0;34m]\u001b[0m\u001b[0;34m,\u001b[0m \u001b[0mmarker\u001b[0m\u001b[0;34m=\u001b[0m\u001b[0;34m'o'\u001b[0m\u001b[0;34m,\u001b[0m \u001b[0mlinestyle\u001b[0m\u001b[0;34m=\u001b[0m\u001b[0;34m'-'\u001b[0m\u001b[0;34m,\u001b[0m \u001b[0mlabel\u001b[0m\u001b[0;34m=\u001b[0m\u001b[0;34m'Response Time'\u001b[0m\u001b[0;34m)\u001b[0m\u001b[0;34m\u001b[0m\u001b[0;34m\u001b[0m\u001b[0m\n\u001b[0m\u001b[1;32m      4\u001b[0m \u001b[0;34m\u001b[0m\u001b[0m\n\u001b[1;32m      5\u001b[0m \u001b[0mplt\u001b[0m\u001b[0;34m.\u001b[0m\u001b[0mxlabel\u001b[0m\u001b[0;34m(\u001b[0m\u001b[0;34m'Thread Timestamp'\u001b[0m\u001b[0;34m)\u001b[0m\u001b[0;34m\u001b[0m\u001b[0;34m\u001b[0m\u001b[0m\n",
            "\u001b[0;32m/usr/local/lib/python3.10/dist-packages/pandas/core/frame.py\u001b[0m in \u001b[0;36m__getitem__\u001b[0;34m(self, key)\u001b[0m\n\u001b[1;32m   3759\u001b[0m             \u001b[0;32mif\u001b[0m \u001b[0mself\u001b[0m\u001b[0;34m.\u001b[0m\u001b[0mcolumns\u001b[0m\u001b[0;34m.\u001b[0m\u001b[0mnlevels\u001b[0m \u001b[0;34m>\u001b[0m \u001b[0;36m1\u001b[0m\u001b[0;34m:\u001b[0m\u001b[0;34m\u001b[0m\u001b[0;34m\u001b[0m\u001b[0m\n\u001b[1;32m   3760\u001b[0m                 \u001b[0;32mreturn\u001b[0m \u001b[0mself\u001b[0m\u001b[0;34m.\u001b[0m\u001b[0m_getitem_multilevel\u001b[0m\u001b[0;34m(\u001b[0m\u001b[0mkey\u001b[0m\u001b[0;34m)\u001b[0m\u001b[0;34m\u001b[0m\u001b[0;34m\u001b[0m\u001b[0m\n\u001b[0;32m-> 3761\u001b[0;31m             \u001b[0mindexer\u001b[0m \u001b[0;34m=\u001b[0m \u001b[0mself\u001b[0m\u001b[0;34m.\u001b[0m\u001b[0mcolumns\u001b[0m\u001b[0;34m.\u001b[0m\u001b[0mget_loc\u001b[0m\u001b[0;34m(\u001b[0m\u001b[0mkey\u001b[0m\u001b[0;34m)\u001b[0m\u001b[0;34m\u001b[0m\u001b[0;34m\u001b[0m\u001b[0m\n\u001b[0m\u001b[1;32m   3762\u001b[0m             \u001b[0;32mif\u001b[0m \u001b[0mis_integer\u001b[0m\u001b[0;34m(\u001b[0m\u001b[0mindexer\u001b[0m\u001b[0;34m)\u001b[0m\u001b[0;34m:\u001b[0m\u001b[0;34m\u001b[0m\u001b[0;34m\u001b[0m\u001b[0m\n\u001b[1;32m   3763\u001b[0m                 \u001b[0mindexer\u001b[0m \u001b[0;34m=\u001b[0m \u001b[0;34m[\u001b[0m\u001b[0mindexer\u001b[0m\u001b[0;34m]\u001b[0m\u001b[0;34m\u001b[0m\u001b[0;34m\u001b[0m\u001b[0m\n",
            "\u001b[0;32m/usr/local/lib/python3.10/dist-packages/pandas/core/indexes/base.py\u001b[0m in \u001b[0;36mget_loc\u001b[0;34m(self, key)\u001b[0m\n\u001b[1;32m   3653\u001b[0m             \u001b[0;32mreturn\u001b[0m \u001b[0mself\u001b[0m\u001b[0;34m.\u001b[0m\u001b[0m_engine\u001b[0m\u001b[0;34m.\u001b[0m\u001b[0mget_loc\u001b[0m\u001b[0;34m(\u001b[0m\u001b[0mcasted_key\u001b[0m\u001b[0;34m)\u001b[0m\u001b[0;34m\u001b[0m\u001b[0;34m\u001b[0m\u001b[0m\n\u001b[1;32m   3654\u001b[0m         \u001b[0;32mexcept\u001b[0m \u001b[0mKeyError\u001b[0m \u001b[0;32mas\u001b[0m \u001b[0merr\u001b[0m\u001b[0;34m:\u001b[0m\u001b[0;34m\u001b[0m\u001b[0;34m\u001b[0m\u001b[0m\n\u001b[0;32m-> 3655\u001b[0;31m             \u001b[0;32mraise\u001b[0m \u001b[0mKeyError\u001b[0m\u001b[0;34m(\u001b[0m\u001b[0mkey\u001b[0m\u001b[0;34m)\u001b[0m \u001b[0;32mfrom\u001b[0m \u001b[0merr\u001b[0m\u001b[0;34m\u001b[0m\u001b[0;34m\u001b[0m\u001b[0m\n\u001b[0m\u001b[1;32m   3656\u001b[0m         \u001b[0;32mexcept\u001b[0m \u001b[0mTypeError\u001b[0m\u001b[0;34m:\u001b[0m\u001b[0;34m\u001b[0m\u001b[0;34m\u001b[0m\u001b[0m\n\u001b[1;32m   3657\u001b[0m             \u001b[0;31m# If we have a listlike key, _check_indexing_error will raise\u001b[0m\u001b[0;34m\u001b[0m\u001b[0;34m\u001b[0m\u001b[0m\n",
            "\u001b[0;31mKeyError\u001b[0m: 'thread_ts'"
          ]
        },
        {
          "output_type": "display_data",
          "data": {
            "text/plain": [
              "<Figure size 1400x700 with 0 Axes>"
            ]
          },
          "metadata": {}
        }
      ]
    },
    {
      "cell_type": "markdown",
      "source": [
        "### 4-3. 평균 응답 마무리(처리) 시간 계산"
      ],
      "metadata": {
        "id": "sslj8B3eOYbn"
      }
    },
    {
      "cell_type": "code",
      "source": [
        "# Convert timestamp fields to datetime\n",
        "df['ts'] = pd.to_datetime(df['ts'].astype(float), unit='s')\n",
        "df['thread_ts'] = pd.to_datetime(df['thread_ts'].astype(float), unit='s', errors='coerce')\n",
        "\n",
        "# Filter messages that are replies in a thread\n",
        "replies_df = df.dropna(subset=['thread_ts'])\n",
        "\n",
        "# Find the last reply in each thread\n",
        "first_replies = replies_df.sort_values(by='ts').groupby('thread_ts').last().reset_index()\n",
        "\n",
        "# Join first replies with their original messages\n",
        "merged_df = pd.merge(first_replies, df, left_on='thread_ts', right_on='ts', suffixes=('_reply', '_original'))\n",
        "\n",
        "# Calculate response time in minutes\n",
        "merged_df['response_time'] = (merged_df['ts_reply'] - merged_df['ts_original']).dt.total_seconds() / 60.0  # in minutes\n",
        "\n",
        "# Calculate average response time\n",
        "# average_response_time = merged_df['response_time'].mean()\n",
        "\n",
        "# print(f\"Average response time: {average_response_time} minutes\")\n",
        "\n",
        "# Display the dataframe with response times\n",
        "# print(merged_df[['thread_ts', 'response_time']])\n",
        "print(merged_df[['response_time']])"
      ],
      "metadata": {
        "id": "kwxlFktgkbfm",
        "colab": {
          "base_uri": "https://localhost:8080/"
        },
        "outputId": "eff0a018-0709-4335-f3a2-25847c9ee14a"
      },
      "execution_count": null,
      "outputs": [
        {
          "output_type": "stream",
          "name": "stdout",
          "text": [
            "     response_time\n",
            "0       340.226530\n",
            "1         4.664612\n",
            "2         6.244903\n",
            "3       130.099836\n",
            "4       154.672942\n",
            "..             ...\n",
            "226    2585.344280\n",
            "227      66.963086\n",
            "228    5291.213553\n",
            "229       7.175236\n",
            "230       9.274868\n",
            "\n",
            "[231 rows x 1 columns]\n"
          ]
        }
      ]
    },
    {
      "cell_type": "markdown",
      "source": [
        "# 5. 행정 문의방_CS 데이터 추출"
      ],
      "metadata": {
        "id": "UIAQ_ZzC8nFr"
      }
    },
    {
      "cell_type": "code",
      "source": [
        "import os\n",
        "import json\n",
        "import pandas as pd\n",
        "from datetime import datetime\n",
        "\n",
        "# 폴더 경로 지정\n",
        "folder_path = '/content/drive/My Drive/data/slack/UP_AI_1기_Slack'\n",
        "channel_path = os.path.join(folder_path, \"4_행정문의방\")\n",
        "\n",
        "# 폴더 내의 모든 파일을 순회\n",
        "jsonDataList = []\n",
        "FilenameList = []\n",
        "for filename in os.listdir(channel_path):\n",
        "    # 파일 확장자가 .json인 경우만 처리\n",
        "    if filename.endswith('.json'):\n",
        "        # 완전한 파일 경로 생성\n",
        "        file_path = os.path.join(channel_path, filename)\n",
        "\n",
        "        # 파일 열기 및 JSON 데이터 로드\n",
        "        try:\n",
        "            with open(file_path, 'r') as file:\n",
        "                data = json.load(file)\n",
        "                convertFilename = filename.replace(\".json\", \"\")\n",
        "                jsonData = {\"date\": convertFilename, \"value\": data}\n",
        "                jsonDataList.append(jsonData)\n",
        "                FilenameList.append(convertFilename)\n",
        "                FilenameList.sort()\n",
        "        except json.JSONDecodeError:\n",
        "            print(f\"Error decoding JSON from file {filename}\")\n",
        "        except Exception as e:\n",
        "            print(f\"An error occurred while reading {filename}: {e}\")\n",
        "\n",
        "# 데이터를 저장할 리스트 초기화\n",
        "result_data = []\n",
        "\n",
        "# JSON 데이터를 순회하며 스레드와 댓글을 추출\n",
        "for item in jsonDataList:\n",
        "    date = item['date']\n",
        "    messages = item['value']\n",
        "\n",
        "    # 메시지를 DataFrame으로 변환\n",
        "    df = pd.DataFrame(messages)\n",
        "\n",
        "    # 'thread_ts' 열이 없는 경우 기본 값을 추가\n",
        "    if 'thread_ts' not in df.columns:\n",
        "        df['thread_ts'] = None\n",
        "\n",
        "    # 타임스탬프 필드를 datetime 형식으로 변환\n",
        "    df['ts'] = pd.to_datetime(df['ts'].astype(float), unit='s', errors='coerce')\n",
        "    df['thread_ts'] = pd.to_datetime(df['thread_ts'].astype(float), unit='s', errors='coerce')\n",
        "\n",
        "    # 원본 스레드 메시지를 필터링\n",
        "    original_threads = df[df['thread_ts'].isnull()]\n",
        "\n",
        "    # 각 원본 스레드를 순회하며 댓글을 추출\n",
        "    for _, thread in original_threads.iterrows():\n",
        "        thread_ts = thread['ts']\n",
        "        thread_text = thread['text']\n",
        "\n",
        "        # 스레드에 속한 모든 댓글을 필터링\n",
        "        comments = df[df['thread_ts'] == thread_ts]\n",
        "\n",
        "        # 각 댓글을 순회하며 결과 데이터에 추가\n",
        "        for _, comment in comments.iterrows():\n",
        "            result_data.append({\n",
        "                'Date': date,\n",
        "                'Thread Message': thread_text,\n",
        "                'Comment': comment['text'],\n",
        "                'Comment Author': comment['user'] if 'user' in comment else 'Unknown'\n",
        "            })\n",
        "\n",
        "# 결과 데이터를 DataFrame으로 변환\n",
        "result_df = pd.DataFrame(result_data, columns=['Date', 'Thread Message', 'Comment', 'Comment Author'])\n",
        "\n",
        "# DataFrame 출력\n",
        "print(result_df)\n"
      ],
      "metadata": {
        "colab": {
          "base_uri": "https://localhost:8080/",
          "height": 478
        },
        "id": "Pr65Ks5aDmS6",
        "outputId": "e15962ea-7003-4a11-c42a-44cd88714ab4"
      },
      "execution_count": 6,
      "outputs": [
        {
          "output_type": "error",
          "ename": "KeyError",
          "evalue": "'ts'",
          "traceback": [
            "\u001b[0;31m---------------------------------------------------------------------------\u001b[0m",
            "\u001b[0;31mKeyError\u001b[0m                                  Traceback (most recent call last)",
            "\u001b[0;32m/usr/local/lib/python3.10/dist-packages/pandas/core/indexes/base.py\u001b[0m in \u001b[0;36mget_loc\u001b[0;34m(self, key)\u001b[0m\n\u001b[1;32m   3652\u001b[0m         \u001b[0;32mtry\u001b[0m\u001b[0;34m:\u001b[0m\u001b[0;34m\u001b[0m\u001b[0;34m\u001b[0m\u001b[0m\n\u001b[0;32m-> 3653\u001b[0;31m             \u001b[0;32mreturn\u001b[0m \u001b[0mself\u001b[0m\u001b[0;34m.\u001b[0m\u001b[0m_engine\u001b[0m\u001b[0;34m.\u001b[0m\u001b[0mget_loc\u001b[0m\u001b[0;34m(\u001b[0m\u001b[0mcasted_key\u001b[0m\u001b[0;34m)\u001b[0m\u001b[0;34m\u001b[0m\u001b[0;34m\u001b[0m\u001b[0m\n\u001b[0m\u001b[1;32m   3654\u001b[0m         \u001b[0;32mexcept\u001b[0m \u001b[0mKeyError\u001b[0m \u001b[0;32mas\u001b[0m \u001b[0merr\u001b[0m\u001b[0;34m:\u001b[0m\u001b[0;34m\u001b[0m\u001b[0;34m\u001b[0m\u001b[0m\n",
            "\u001b[0;32m/usr/local/lib/python3.10/dist-packages/pandas/_libs/index.pyx\u001b[0m in \u001b[0;36mpandas._libs.index.IndexEngine.get_loc\u001b[0;34m()\u001b[0m\n",
            "\u001b[0;32m/usr/local/lib/python3.10/dist-packages/pandas/_libs/index.pyx\u001b[0m in \u001b[0;36mpandas._libs.index.IndexEngine.get_loc\u001b[0;34m()\u001b[0m\n",
            "\u001b[0;32mpandas/_libs/hashtable_class_helper.pxi\u001b[0m in \u001b[0;36mpandas._libs.hashtable.PyObjectHashTable.get_item\u001b[0;34m()\u001b[0m\n",
            "\u001b[0;32mpandas/_libs/hashtable_class_helper.pxi\u001b[0m in \u001b[0;36mpandas._libs.hashtable.PyObjectHashTable.get_item\u001b[0;34m()\u001b[0m\n",
            "\u001b[0;31mKeyError\u001b[0m: 'ts'",
            "\nThe above exception was the direct cause of the following exception:\n",
            "\u001b[0;31mKeyError\u001b[0m                                  Traceback (most recent call last)",
            "\u001b[0;32m<ipython-input-6-a0d8d64fdd97>\u001b[0m in \u001b[0;36m<cell line: 37>\u001b[0;34m()\u001b[0m\n\u001b[1;32m     47\u001b[0m \u001b[0;34m\u001b[0m\u001b[0m\n\u001b[1;32m     48\u001b[0m     \u001b[0;31m# 타임스탬프 필드를 datetime 형식으로 변환\u001b[0m\u001b[0;34m\u001b[0m\u001b[0;34m\u001b[0m\u001b[0m\n\u001b[0;32m---> 49\u001b[0;31m     \u001b[0mdf\u001b[0m\u001b[0;34m[\u001b[0m\u001b[0;34m'ts'\u001b[0m\u001b[0;34m]\u001b[0m \u001b[0;34m=\u001b[0m \u001b[0mpd\u001b[0m\u001b[0;34m.\u001b[0m\u001b[0mto_datetime\u001b[0m\u001b[0;34m(\u001b[0m\u001b[0mdf\u001b[0m\u001b[0;34m[\u001b[0m\u001b[0;34m'ts'\u001b[0m\u001b[0;34m]\u001b[0m\u001b[0;34m.\u001b[0m\u001b[0mastype\u001b[0m\u001b[0;34m(\u001b[0m\u001b[0mfloat\u001b[0m\u001b[0;34m)\u001b[0m\u001b[0;34m,\u001b[0m \u001b[0munit\u001b[0m\u001b[0;34m=\u001b[0m\u001b[0;34m's'\u001b[0m\u001b[0;34m,\u001b[0m \u001b[0merrors\u001b[0m\u001b[0;34m=\u001b[0m\u001b[0;34m'coerce'\u001b[0m\u001b[0;34m)\u001b[0m\u001b[0;34m\u001b[0m\u001b[0;34m\u001b[0m\u001b[0m\n\u001b[0m\u001b[1;32m     50\u001b[0m     \u001b[0mdf\u001b[0m\u001b[0;34m[\u001b[0m\u001b[0;34m'thread_ts'\u001b[0m\u001b[0;34m]\u001b[0m \u001b[0;34m=\u001b[0m \u001b[0mpd\u001b[0m\u001b[0;34m.\u001b[0m\u001b[0mto_datetime\u001b[0m\u001b[0;34m(\u001b[0m\u001b[0mdf\u001b[0m\u001b[0;34m[\u001b[0m\u001b[0;34m'thread_ts'\u001b[0m\u001b[0;34m]\u001b[0m\u001b[0;34m.\u001b[0m\u001b[0mastype\u001b[0m\u001b[0;34m(\u001b[0m\u001b[0mfloat\u001b[0m\u001b[0;34m)\u001b[0m\u001b[0;34m,\u001b[0m \u001b[0munit\u001b[0m\u001b[0;34m=\u001b[0m\u001b[0;34m's'\u001b[0m\u001b[0;34m,\u001b[0m \u001b[0merrors\u001b[0m\u001b[0;34m=\u001b[0m\u001b[0;34m'coerce'\u001b[0m\u001b[0;34m)\u001b[0m\u001b[0;34m\u001b[0m\u001b[0;34m\u001b[0m\u001b[0m\n\u001b[1;32m     51\u001b[0m \u001b[0;34m\u001b[0m\u001b[0m\n",
            "\u001b[0;32m/usr/local/lib/python3.10/dist-packages/pandas/core/frame.py\u001b[0m in \u001b[0;36m__getitem__\u001b[0;34m(self, key)\u001b[0m\n\u001b[1;32m   3759\u001b[0m             \u001b[0;32mif\u001b[0m \u001b[0mself\u001b[0m\u001b[0;34m.\u001b[0m\u001b[0mcolumns\u001b[0m\u001b[0;34m.\u001b[0m\u001b[0mnlevels\u001b[0m \u001b[0;34m>\u001b[0m \u001b[0;36m1\u001b[0m\u001b[0;34m:\u001b[0m\u001b[0;34m\u001b[0m\u001b[0;34m\u001b[0m\u001b[0m\n\u001b[1;32m   3760\u001b[0m                 \u001b[0;32mreturn\u001b[0m \u001b[0mself\u001b[0m\u001b[0;34m.\u001b[0m\u001b[0m_getitem_multilevel\u001b[0m\u001b[0;34m(\u001b[0m\u001b[0mkey\u001b[0m\u001b[0;34m)\u001b[0m\u001b[0;34m\u001b[0m\u001b[0;34m\u001b[0m\u001b[0m\n\u001b[0;32m-> 3761\u001b[0;31m             \u001b[0mindexer\u001b[0m \u001b[0;34m=\u001b[0m \u001b[0mself\u001b[0m\u001b[0;34m.\u001b[0m\u001b[0mcolumns\u001b[0m\u001b[0;34m.\u001b[0m\u001b[0mget_loc\u001b[0m\u001b[0;34m(\u001b[0m\u001b[0mkey\u001b[0m\u001b[0;34m)\u001b[0m\u001b[0;34m\u001b[0m\u001b[0;34m\u001b[0m\u001b[0m\n\u001b[0m\u001b[1;32m   3762\u001b[0m             \u001b[0;32mif\u001b[0m \u001b[0mis_integer\u001b[0m\u001b[0;34m(\u001b[0m\u001b[0mindexer\u001b[0m\u001b[0;34m)\u001b[0m\u001b[0;34m:\u001b[0m\u001b[0;34m\u001b[0m\u001b[0;34m\u001b[0m\u001b[0m\n\u001b[1;32m   3763\u001b[0m                 \u001b[0mindexer\u001b[0m \u001b[0;34m=\u001b[0m \u001b[0;34m[\u001b[0m\u001b[0mindexer\u001b[0m\u001b[0;34m]\u001b[0m\u001b[0;34m\u001b[0m\u001b[0;34m\u001b[0m\u001b[0m\n",
            "\u001b[0;32m/usr/local/lib/python3.10/dist-packages/pandas/core/indexes/base.py\u001b[0m in \u001b[0;36mget_loc\u001b[0;34m(self, key)\u001b[0m\n\u001b[1;32m   3653\u001b[0m             \u001b[0;32mreturn\u001b[0m \u001b[0mself\u001b[0m\u001b[0;34m.\u001b[0m\u001b[0m_engine\u001b[0m\u001b[0;34m.\u001b[0m\u001b[0mget_loc\u001b[0m\u001b[0;34m(\u001b[0m\u001b[0mcasted_key\u001b[0m\u001b[0;34m)\u001b[0m\u001b[0;34m\u001b[0m\u001b[0;34m\u001b[0m\u001b[0m\n\u001b[1;32m   3654\u001b[0m         \u001b[0;32mexcept\u001b[0m \u001b[0mKeyError\u001b[0m \u001b[0;32mas\u001b[0m \u001b[0merr\u001b[0m\u001b[0;34m:\u001b[0m\u001b[0;34m\u001b[0m\u001b[0;34m\u001b[0m\u001b[0m\n\u001b[0;32m-> 3655\u001b[0;31m             \u001b[0;32mraise\u001b[0m \u001b[0mKeyError\u001b[0m\u001b[0;34m(\u001b[0m\u001b[0mkey\u001b[0m\u001b[0;34m)\u001b[0m \u001b[0;32mfrom\u001b[0m \u001b[0merr\u001b[0m\u001b[0;34m\u001b[0m\u001b[0;34m\u001b[0m\u001b[0m\n\u001b[0m\u001b[1;32m   3656\u001b[0m         \u001b[0;32mexcept\u001b[0m \u001b[0mTypeError\u001b[0m\u001b[0;34m:\u001b[0m\u001b[0;34m\u001b[0m\u001b[0;34m\u001b[0m\u001b[0m\n\u001b[1;32m   3657\u001b[0m             \u001b[0;31m# If we have a listlike key, _check_indexing_error will raise\u001b[0m\u001b[0;34m\u001b[0m\u001b[0;34m\u001b[0m\u001b[0m\n",
            "\u001b[0;31mKeyError\u001b[0m: 'ts'"
          ]
        }
      ]
    },
    {
      "cell_type": "code",
      "source": [],
      "metadata": {
        "id": "teh3_M5iFk6h"
      },
      "execution_count": null,
      "outputs": []
    }
  ]
}